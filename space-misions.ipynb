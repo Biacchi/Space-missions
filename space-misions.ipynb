{
 "cells": [
  {
   "cell_type": "markdown",
   "id": "6e5674e8",
   "metadata": {
    "papermill": {
     "duration": 0.011351,
     "end_time": "2023-10-12T02:02:42.901694",
     "exception": false,
     "start_time": "2023-10-12T02:02:42.890343",
     "status": "completed"
    },
    "tags": []
   },
   "source": [
    "# Setup"
   ]
  },
  {
   "cell_type": "code",
   "execution_count": 1,
   "id": "f0dbb75b",
   "metadata": {
    "execution": {
     "iopub.execute_input": "2023-10-12T02:02:42.916868Z",
     "iopub.status.busy": "2023-10-12T02:02:42.916187Z",
     "iopub.status.idle": "2023-10-12T02:02:44.814875Z",
     "shell.execute_reply": "2023-10-12T02:02:44.813706Z"
    },
    "papermill": {
     "duration": 1.909668,
     "end_time": "2023-10-12T02:02:44.817893",
     "exception": false,
     "start_time": "2023-10-12T02:02:42.908225",
     "status": "completed"
    },
    "tags": []
   },
   "outputs": [],
   "source": [
    "import numpy as np\n",
    "import pandas as pd\n",
    "import seaborn as sns\n",
    "import matplotlib.pyplot as plt"
   ]
  },
  {
   "cell_type": "markdown",
   "id": "b9cad8f1",
   "metadata": {
    "papermill": {
     "duration": 0.006309,
     "end_time": "2023-10-12T02:02:44.830808",
     "exception": false,
     "start_time": "2023-10-12T02:02:44.824499",
     "status": "completed"
    },
    "tags": []
   },
   "source": [
    "# Importing dataset"
   ]
  },
  {
   "cell_type": "code",
   "execution_count": 2,
   "id": "ced2c4d8",
   "metadata": {
    "execution": {
     "iopub.execute_input": "2023-10-12T02:02:44.846409Z",
     "iopub.status.busy": "2023-10-12T02:02:44.844835Z",
     "iopub.status.idle": "2023-10-12T02:02:44.921460Z",
     "shell.execute_reply": "2023-10-12T02:02:44.920147Z"
    },
    "papermill": {
     "duration": 0.087119,
     "end_time": "2023-10-12T02:02:44.924297",
     "exception": false,
     "start_time": "2023-10-12T02:02:44.837178",
     "status": "completed"
    },
    "tags": []
   },
   "outputs": [
    {
     "data": {
      "text/html": [
       "<div>\n",
       "<style scoped>\n",
       "    .dataframe tbody tr th:only-of-type {\n",
       "        vertical-align: middle;\n",
       "    }\n",
       "\n",
       "    .dataframe tbody tr th {\n",
       "        vertical-align: top;\n",
       "    }\n",
       "\n",
       "    .dataframe thead th {\n",
       "        text-align: right;\n",
       "    }\n",
       "</style>\n",
       "<table border=\"1\" class=\"dataframe\">\n",
       "  <thead>\n",
       "    <tr style=\"text-align: right;\">\n",
       "      <th></th>\n",
       "      <th>Unnamed: 0.1</th>\n",
       "      <th>Unnamed: 0</th>\n",
       "      <th>Company Name</th>\n",
       "      <th>Location</th>\n",
       "      <th>Datum</th>\n",
       "      <th>Detail</th>\n",
       "      <th>Status Rocket</th>\n",
       "      <th>Rocket</th>\n",
       "      <th>Status Mission</th>\n",
       "    </tr>\n",
       "  </thead>\n",
       "  <tbody>\n",
       "    <tr>\n",
       "      <th>0</th>\n",
       "      <td>0</td>\n",
       "      <td>0</td>\n",
       "      <td>SpaceX</td>\n",
       "      <td>LC-39A, Kennedy Space Center, Florida, USA</td>\n",
       "      <td>Fri Aug 07, 2020 05:12 UTC</td>\n",
       "      <td>Falcon 9 Block 5 | Starlink V1 L9 &amp; BlackSky</td>\n",
       "      <td>StatusActive</td>\n",
       "      <td>50.0</td>\n",
       "      <td>Success</td>\n",
       "    </tr>\n",
       "    <tr>\n",
       "      <th>1</th>\n",
       "      <td>1</td>\n",
       "      <td>1</td>\n",
       "      <td>CASC</td>\n",
       "      <td>Site 9401 (SLS-2), Jiuquan Satellite Launch Ce...</td>\n",
       "      <td>Thu Aug 06, 2020 04:01 UTC</td>\n",
       "      <td>Long March 2D | Gaofen-9 04 &amp; Q-SAT</td>\n",
       "      <td>StatusActive</td>\n",
       "      <td>29.75</td>\n",
       "      <td>Success</td>\n",
       "    </tr>\n",
       "    <tr>\n",
       "      <th>2</th>\n",
       "      <td>2</td>\n",
       "      <td>2</td>\n",
       "      <td>SpaceX</td>\n",
       "      <td>Pad A, Boca Chica, Texas, USA</td>\n",
       "      <td>Tue Aug 04, 2020 23:57 UTC</td>\n",
       "      <td>Starship Prototype | 150 Meter Hop</td>\n",
       "      <td>StatusActive</td>\n",
       "      <td>NaN</td>\n",
       "      <td>Success</td>\n",
       "    </tr>\n",
       "    <tr>\n",
       "      <th>3</th>\n",
       "      <td>3</td>\n",
       "      <td>3</td>\n",
       "      <td>Roscosmos</td>\n",
       "      <td>Site 200/39, Baikonur Cosmodrome, Kazakhstan</td>\n",
       "      <td>Thu Jul 30, 2020 21:25 UTC</td>\n",
       "      <td>Proton-M/Briz-M | Ekspress-80 &amp; Ekspress-103</td>\n",
       "      <td>StatusActive</td>\n",
       "      <td>65.0</td>\n",
       "      <td>Success</td>\n",
       "    </tr>\n",
       "    <tr>\n",
       "      <th>4</th>\n",
       "      <td>4</td>\n",
       "      <td>4</td>\n",
       "      <td>ULA</td>\n",
       "      <td>SLC-41, Cape Canaveral AFS, Florida, USA</td>\n",
       "      <td>Thu Jul 30, 2020 11:50 UTC</td>\n",
       "      <td>Atlas V 541 | Perseverance</td>\n",
       "      <td>StatusActive</td>\n",
       "      <td>145.0</td>\n",
       "      <td>Success</td>\n",
       "    </tr>\n",
       "  </tbody>\n",
       "</table>\n",
       "</div>"
      ],
      "text/plain": [
       "   Unnamed: 0.1  Unnamed: 0 Company Name  \\\n",
       "0             0           0       SpaceX   \n",
       "1             1           1         CASC   \n",
       "2             2           2       SpaceX   \n",
       "3             3           3    Roscosmos   \n",
       "4             4           4          ULA   \n",
       "\n",
       "                                            Location  \\\n",
       "0         LC-39A, Kennedy Space Center, Florida, USA   \n",
       "1  Site 9401 (SLS-2), Jiuquan Satellite Launch Ce...   \n",
       "2                      Pad A, Boca Chica, Texas, USA   \n",
       "3       Site 200/39, Baikonur Cosmodrome, Kazakhstan   \n",
       "4           SLC-41, Cape Canaveral AFS, Florida, USA   \n",
       "\n",
       "                        Datum                                        Detail  \\\n",
       "0  Fri Aug 07, 2020 05:12 UTC  Falcon 9 Block 5 | Starlink V1 L9 & BlackSky   \n",
       "1  Thu Aug 06, 2020 04:01 UTC           Long March 2D | Gaofen-9 04 & Q-SAT   \n",
       "2  Tue Aug 04, 2020 23:57 UTC            Starship Prototype | 150 Meter Hop   \n",
       "3  Thu Jul 30, 2020 21:25 UTC  Proton-M/Briz-M | Ekspress-80 & Ekspress-103   \n",
       "4  Thu Jul 30, 2020 11:50 UTC                    Atlas V 541 | Perseverance   \n",
       "\n",
       "  Status Rocket  Rocket Status Mission  \n",
       "0  StatusActive   50.0         Success  \n",
       "1  StatusActive  29.75         Success  \n",
       "2  StatusActive     NaN        Success  \n",
       "3  StatusActive   65.0         Success  \n",
       "4  StatusActive  145.0         Success  "
      ]
     },
     "execution_count": 2,
     "metadata": {},
     "output_type": "execute_result"
    }
   ],
   "source": [
    "file_path = \"/kaggle/input/all-space-missions-from-1957/Space_Corrected.csv\"\n",
    "\n",
    "df = pd.read_csv(file_path)\n",
    "\n",
    "df.head()"
   ]
  },
  {
   "cell_type": "markdown",
   "id": "6a71293b",
   "metadata": {
    "papermill": {
     "duration": 0.006743,
     "end_time": "2023-10-12T02:02:44.937757",
     "exception": false,
     "start_time": "2023-10-12T02:02:44.931014",
     "status": "completed"
    },
    "tags": []
   },
   "source": [
    "# Basic info"
   ]
  },
  {
   "cell_type": "code",
   "execution_count": 3,
   "id": "b2098d46",
   "metadata": {
    "execution": {
     "iopub.execute_input": "2023-10-12T02:02:44.952897Z",
     "iopub.status.busy": "2023-10-12T02:02:44.952528Z",
     "iopub.status.idle": "2023-10-12T02:02:44.990324Z",
     "shell.execute_reply": "2023-10-12T02:02:44.988389Z"
    },
    "papermill": {
     "duration": 0.048915,
     "end_time": "2023-10-12T02:02:44.993510",
     "exception": false,
     "start_time": "2023-10-12T02:02:44.944595",
     "status": "completed"
    },
    "tags": []
   },
   "outputs": [
    {
     "name": "stdout",
     "output_type": "stream",
     "text": [
      "<class 'pandas.core.frame.DataFrame'>\n",
      "RangeIndex: 4324 entries, 0 to 4323\n",
      "Data columns (total 9 columns):\n",
      " #   Column          Non-Null Count  Dtype \n",
      "---  ------          --------------  ----- \n",
      " 0   Unnamed: 0.1    4324 non-null   int64 \n",
      " 1   Unnamed: 0      4324 non-null   int64 \n",
      " 2   Company Name    4324 non-null   object\n",
      " 3   Location        4324 non-null   object\n",
      " 4   Datum           4324 non-null   object\n",
      " 5   Detail          4324 non-null   object\n",
      " 6   Status Rocket   4324 non-null   object\n",
      " 7    Rocket         964 non-null    object\n",
      " 8   Status Mission  4324 non-null   object\n",
      "dtypes: int64(2), object(7)\n",
      "memory usage: 304.2+ KB\n"
     ]
    }
   ],
   "source": [
    "df.info()"
   ]
  },
  {
   "cell_type": "code",
   "execution_count": 4,
   "id": "eda07945",
   "metadata": {
    "execution": {
     "iopub.execute_input": "2023-10-12T02:02:45.017095Z",
     "iopub.status.busy": "2023-10-12T02:02:45.016068Z",
     "iopub.status.idle": "2023-10-12T02:02:45.022807Z",
     "shell.execute_reply": "2023-10-12T02:02:45.022015Z"
    },
    "papermill": {
     "duration": 0.023975,
     "end_time": "2023-10-12T02:02:45.024707",
     "exception": false,
     "start_time": "2023-10-12T02:02:45.000732",
     "status": "completed"
    },
    "tags": []
   },
   "outputs": [
    {
     "data": {
      "text/plain": [
       "Index(['Unnamed: 0.1', 'Unnamed: 0', 'Company Name', 'Location', 'Datum',\n",
       "       'Detail', 'Status Rocket', ' Rocket', 'Status Mission'],\n",
       "      dtype='object')"
      ]
     },
     "execution_count": 4,
     "metadata": {},
     "output_type": "execute_result"
    }
   ],
   "source": [
    "df.columns"
   ]
  },
  {
   "cell_type": "markdown",
   "id": "3ff2efda",
   "metadata": {
    "papermill": {
     "duration": 0.006686,
     "end_time": "2023-10-12T02:02:45.038025",
     "exception": false,
     "start_time": "2023-10-12T02:02:45.031339",
     "status": "completed"
    },
    "tags": []
   },
   "source": [
    "With the output above, we can see that the \"Rocket\" column has a whitespace before the title. Additionaly, we can see that the first two column are just artifacts and have no real purpose to the dataset. They will be removed in the data cleaning step. "
   ]
  },
  {
   "cell_type": "code",
   "execution_count": 5,
   "id": "08c4403e",
   "metadata": {
    "execution": {
     "iopub.execute_input": "2023-10-12T02:02:45.053740Z",
     "iopub.status.busy": "2023-10-12T02:02:45.052895Z",
     "iopub.status.idle": "2023-10-12T02:02:45.073322Z",
     "shell.execute_reply": "2023-10-12T02:02:45.072068Z"
    },
    "papermill": {
     "duration": 0.031551,
     "end_time": "2023-10-12T02:02:45.076082",
     "exception": false,
     "start_time": "2023-10-12T02:02:45.044531",
     "status": "completed"
    },
    "tags": []
   },
   "outputs": [
    {
     "data": {
      "text/html": [
       "<div>\n",
       "<style scoped>\n",
       "    .dataframe tbody tr th:only-of-type {\n",
       "        vertical-align: middle;\n",
       "    }\n",
       "\n",
       "    .dataframe tbody tr th {\n",
       "        vertical-align: top;\n",
       "    }\n",
       "\n",
       "    .dataframe thead th {\n",
       "        text-align: right;\n",
       "    }\n",
       "</style>\n",
       "<table border=\"1\" class=\"dataframe\">\n",
       "  <thead>\n",
       "    <tr style=\"text-align: right;\">\n",
       "      <th></th>\n",
       "      <th>Unnamed: 0.1</th>\n",
       "      <th>Unnamed: 0</th>\n",
       "    </tr>\n",
       "  </thead>\n",
       "  <tbody>\n",
       "    <tr>\n",
       "      <th>count</th>\n",
       "      <td>4324.000000</td>\n",
       "      <td>4324.000000</td>\n",
       "    </tr>\n",
       "    <tr>\n",
       "      <th>mean</th>\n",
       "      <td>2161.500000</td>\n",
       "      <td>2161.500000</td>\n",
       "    </tr>\n",
       "    <tr>\n",
       "      <th>std</th>\n",
       "      <td>1248.375611</td>\n",
       "      <td>1248.375611</td>\n",
       "    </tr>\n",
       "    <tr>\n",
       "      <th>min</th>\n",
       "      <td>0.000000</td>\n",
       "      <td>0.000000</td>\n",
       "    </tr>\n",
       "    <tr>\n",
       "      <th>25%</th>\n",
       "      <td>1080.750000</td>\n",
       "      <td>1080.750000</td>\n",
       "    </tr>\n",
       "    <tr>\n",
       "      <th>50%</th>\n",
       "      <td>2161.500000</td>\n",
       "      <td>2161.500000</td>\n",
       "    </tr>\n",
       "    <tr>\n",
       "      <th>75%</th>\n",
       "      <td>3242.250000</td>\n",
       "      <td>3242.250000</td>\n",
       "    </tr>\n",
       "    <tr>\n",
       "      <th>max</th>\n",
       "      <td>4323.000000</td>\n",
       "      <td>4323.000000</td>\n",
       "    </tr>\n",
       "  </tbody>\n",
       "</table>\n",
       "</div>"
      ],
      "text/plain": [
       "       Unnamed: 0.1   Unnamed: 0\n",
       "count   4324.000000  4324.000000\n",
       "mean    2161.500000  2161.500000\n",
       "std     1248.375611  1248.375611\n",
       "min        0.000000     0.000000\n",
       "25%     1080.750000  1080.750000\n",
       "50%     2161.500000  2161.500000\n",
       "75%     3242.250000  3242.250000\n",
       "max     4323.000000  4323.000000"
      ]
     },
     "execution_count": 5,
     "metadata": {},
     "output_type": "execute_result"
    }
   ],
   "source": [
    "df.describe()"
   ]
  },
  {
   "cell_type": "code",
   "execution_count": 6,
   "id": "3af6fce1",
   "metadata": {
    "execution": {
     "iopub.execute_input": "2023-10-12T02:02:45.092395Z",
     "iopub.status.busy": "2023-10-12T02:02:45.091840Z",
     "iopub.status.idle": "2023-10-12T02:02:45.103190Z",
     "shell.execute_reply": "2023-10-12T02:02:45.101884Z"
    },
    "papermill": {
     "duration": 0.02209,
     "end_time": "2023-10-12T02:02:45.105336",
     "exception": false,
     "start_time": "2023-10-12T02:02:45.083246",
     "status": "completed"
    },
    "tags": []
   },
   "outputs": [
    {
     "data": {
      "text/plain": [
       "Unnamed: 0.1         0\n",
       "Unnamed: 0           0\n",
       "Company Name         0\n",
       "Location             0\n",
       "Datum                0\n",
       "Detail               0\n",
       "Status Rocket        0\n",
       " Rocket           3360\n",
       "Status Mission       0\n",
       "dtype: int64"
      ]
     },
     "execution_count": 6,
     "metadata": {},
     "output_type": "execute_result"
    }
   ],
   "source": [
    "# Checking for null columns\n",
    "df.isnull().sum()"
   ]
  },
  {
   "cell_type": "markdown",
   "id": "2bcf5912",
   "metadata": {
    "papermill": {
     "duration": 0.006433,
     "end_time": "2023-10-12T02:02:45.118465",
     "exception": false,
     "start_time": "2023-10-12T02:02:45.112032",
     "status": "completed"
    },
    "tags": []
   },
   "source": [
    "Unfortunately, we don't have the names for all rockets. "
   ]
  },
  {
   "cell_type": "code",
   "execution_count": 7,
   "id": "d2855e93",
   "metadata": {
    "execution": {
     "iopub.execute_input": "2023-10-12T02:02:45.133798Z",
     "iopub.status.busy": "2023-10-12T02:02:45.133088Z",
     "iopub.status.idle": "2023-10-12T02:02:45.148400Z",
     "shell.execute_reply": "2023-10-12T02:02:45.147131Z"
    },
    "papermill": {
     "duration": 0.025913,
     "end_time": "2023-10-12T02:02:45.150952",
     "exception": false,
     "start_time": "2023-10-12T02:02:45.125039",
     "status": "completed"
    },
    "tags": []
   },
   "outputs": [
    {
     "data": {
      "text/plain": [
       "0"
      ]
     },
     "execution_count": 7,
     "metadata": {},
     "output_type": "execute_result"
    }
   ],
   "source": [
    "# Checking for duplicates\n",
    "df.duplicated().sum()"
   ]
  },
  {
   "cell_type": "markdown",
   "id": "2228db2e",
   "metadata": {
    "papermill": {
     "duration": 0.00686,
     "end_time": "2023-10-12T02:02:45.165370",
     "exception": false,
     "start_time": "2023-10-12T02:02:45.158510",
     "status": "completed"
    },
    "tags": []
   },
   "source": [
    "## To do "
   ]
  },
  {
   "cell_type": "markdown",
   "id": "6a211eeb",
   "metadata": {
    "papermill": {
     "duration": 0.008082,
     "end_time": "2023-10-12T02:02:45.180830",
     "exception": false,
     "start_time": "2023-10-12T02:02:45.172748",
     "status": "completed"
    },
    "tags": []
   },
   "source": [
    "After this initial explorations, we can see that we have the following tasks to make the data cleaner:\n",
    "* Strip whitespace from column names\n",
    "* Remove the first two columns (unnamed)\n",
    "* Remove the duplicate row\n",
    "* Change the names of a few columns to more relevant ones\n",
    "* Change the columns data types, as they are all the 'object' type"
   ]
  },
  {
   "cell_type": "markdown",
   "id": "480d70ec",
   "metadata": {
    "papermill": {
     "duration": 0.006772,
     "end_time": "2023-10-12T02:02:45.194879",
     "exception": false,
     "start_time": "2023-10-12T02:02:45.188107",
     "status": "completed"
    },
    "tags": []
   },
   "source": [
    "As per the output above, there is one duplicated row in the dataset. This will be removed in the cleaning process. "
   ]
  },
  {
   "cell_type": "markdown",
   "id": "3efceee7",
   "metadata": {
    "papermill": {
     "duration": 0.007357,
     "end_time": "2023-10-12T02:02:45.209463",
     "exception": false,
     "start_time": "2023-10-12T02:02:45.202106",
     "status": "completed"
    },
    "tags": []
   },
   "source": [
    "# Cleaning"
   ]
  },
  {
   "cell_type": "code",
   "execution_count": 8,
   "id": "66ce3ee0",
   "metadata": {
    "execution": {
     "iopub.execute_input": "2023-10-12T02:02:45.225983Z",
     "iopub.status.busy": "2023-10-12T02:02:45.225148Z",
     "iopub.status.idle": "2023-10-12T02:02:45.230821Z",
     "shell.execute_reply": "2023-10-12T02:02:45.229870Z"
    },
    "papermill": {
     "duration": 0.016284,
     "end_time": "2023-10-12T02:02:45.232892",
     "exception": false,
     "start_time": "2023-10-12T02:02:45.216608",
     "status": "completed"
    },
    "tags": []
   },
   "outputs": [],
   "source": [
    "# Remove whitespace from column names\n",
    "df = df.rename(columns=lambda x: x.strip())"
   ]
  },
  {
   "cell_type": "code",
   "execution_count": 9,
   "id": "559233ef",
   "metadata": {
    "execution": {
     "iopub.execute_input": "2023-10-12T02:02:45.248685Z",
     "iopub.status.busy": "2023-10-12T02:02:45.248329Z",
     "iopub.status.idle": "2023-10-12T02:02:45.264306Z",
     "shell.execute_reply": "2023-10-12T02:02:45.263154Z"
    },
    "papermill": {
     "duration": 0.026331,
     "end_time": "2023-10-12T02:02:45.266267",
     "exception": false,
     "start_time": "2023-10-12T02:02:45.239936",
     "status": "completed"
    },
    "tags": []
   },
   "outputs": [
    {
     "data": {
      "text/html": [
       "<div>\n",
       "<style scoped>\n",
       "    .dataframe tbody tr th:only-of-type {\n",
       "        vertical-align: middle;\n",
       "    }\n",
       "\n",
       "    .dataframe tbody tr th {\n",
       "        vertical-align: top;\n",
       "    }\n",
       "\n",
       "    .dataframe thead th {\n",
       "        text-align: right;\n",
       "    }\n",
       "</style>\n",
       "<table border=\"1\" class=\"dataframe\">\n",
       "  <thead>\n",
       "    <tr style=\"text-align: right;\">\n",
       "      <th></th>\n",
       "      <th>Company Name</th>\n",
       "      <th>Location</th>\n",
       "      <th>Datum</th>\n",
       "      <th>Detail</th>\n",
       "      <th>Status Rocket</th>\n",
       "      <th>Rocket</th>\n",
       "      <th>Status Mission</th>\n",
       "    </tr>\n",
       "  </thead>\n",
       "  <tbody>\n",
       "    <tr>\n",
       "      <th>0</th>\n",
       "      <td>SpaceX</td>\n",
       "      <td>LC-39A, Kennedy Space Center, Florida, USA</td>\n",
       "      <td>Fri Aug 07, 2020 05:12 UTC</td>\n",
       "      <td>Falcon 9 Block 5 | Starlink V1 L9 &amp; BlackSky</td>\n",
       "      <td>StatusActive</td>\n",
       "      <td>50.0</td>\n",
       "      <td>Success</td>\n",
       "    </tr>\n",
       "    <tr>\n",
       "      <th>1</th>\n",
       "      <td>CASC</td>\n",
       "      <td>Site 9401 (SLS-2), Jiuquan Satellite Launch Ce...</td>\n",
       "      <td>Thu Aug 06, 2020 04:01 UTC</td>\n",
       "      <td>Long March 2D | Gaofen-9 04 &amp; Q-SAT</td>\n",
       "      <td>StatusActive</td>\n",
       "      <td>29.75</td>\n",
       "      <td>Success</td>\n",
       "    </tr>\n",
       "    <tr>\n",
       "      <th>2</th>\n",
       "      <td>SpaceX</td>\n",
       "      <td>Pad A, Boca Chica, Texas, USA</td>\n",
       "      <td>Tue Aug 04, 2020 23:57 UTC</td>\n",
       "      <td>Starship Prototype | 150 Meter Hop</td>\n",
       "      <td>StatusActive</td>\n",
       "      <td>NaN</td>\n",
       "      <td>Success</td>\n",
       "    </tr>\n",
       "    <tr>\n",
       "      <th>3</th>\n",
       "      <td>Roscosmos</td>\n",
       "      <td>Site 200/39, Baikonur Cosmodrome, Kazakhstan</td>\n",
       "      <td>Thu Jul 30, 2020 21:25 UTC</td>\n",
       "      <td>Proton-M/Briz-M | Ekspress-80 &amp; Ekspress-103</td>\n",
       "      <td>StatusActive</td>\n",
       "      <td>65.0</td>\n",
       "      <td>Success</td>\n",
       "    </tr>\n",
       "    <tr>\n",
       "      <th>4</th>\n",
       "      <td>ULA</td>\n",
       "      <td>SLC-41, Cape Canaveral AFS, Florida, USA</td>\n",
       "      <td>Thu Jul 30, 2020 11:50 UTC</td>\n",
       "      <td>Atlas V 541 | Perseverance</td>\n",
       "      <td>StatusActive</td>\n",
       "      <td>145.0</td>\n",
       "      <td>Success</td>\n",
       "    </tr>\n",
       "  </tbody>\n",
       "</table>\n",
       "</div>"
      ],
      "text/plain": [
       "  Company Name                                           Location  \\\n",
       "0       SpaceX         LC-39A, Kennedy Space Center, Florida, USA   \n",
       "1         CASC  Site 9401 (SLS-2), Jiuquan Satellite Launch Ce...   \n",
       "2       SpaceX                      Pad A, Boca Chica, Texas, USA   \n",
       "3    Roscosmos       Site 200/39, Baikonur Cosmodrome, Kazakhstan   \n",
       "4          ULA           SLC-41, Cape Canaveral AFS, Florida, USA   \n",
       "\n",
       "                        Datum                                        Detail  \\\n",
       "0  Fri Aug 07, 2020 05:12 UTC  Falcon 9 Block 5 | Starlink V1 L9 & BlackSky   \n",
       "1  Thu Aug 06, 2020 04:01 UTC           Long March 2D | Gaofen-9 04 & Q-SAT   \n",
       "2  Tue Aug 04, 2020 23:57 UTC            Starship Prototype | 150 Meter Hop   \n",
       "3  Thu Jul 30, 2020 21:25 UTC  Proton-M/Briz-M | Ekspress-80 & Ekspress-103   \n",
       "4  Thu Jul 30, 2020 11:50 UTC                    Atlas V 541 | Perseverance   \n",
       "\n",
       "  Status Rocket  Rocket Status Mission  \n",
       "0  StatusActive   50.0         Success  \n",
       "1  StatusActive  29.75         Success  \n",
       "2  StatusActive     NaN        Success  \n",
       "3  StatusActive   65.0         Success  \n",
       "4  StatusActive  145.0         Success  "
      ]
     },
     "execution_count": 9,
     "metadata": {},
     "output_type": "execute_result"
    }
   ],
   "source": [
    "# Remove the first two columns (unnamed)\n",
    "df.drop(columns=['Unnamed: 0.1', 'Unnamed: 0'], inplace=True)\n",
    "\n",
    "df.head()"
   ]
  },
  {
   "cell_type": "code",
   "execution_count": 10,
   "id": "c873b9cb",
   "metadata": {
    "execution": {
     "iopub.execute_input": "2023-10-12T02:02:45.284071Z",
     "iopub.status.busy": "2023-10-12T02:02:45.283423Z",
     "iopub.status.idle": "2023-10-12T02:02:45.303146Z",
     "shell.execute_reply": "2023-10-12T02:02:45.302032Z"
    },
    "papermill": {
     "duration": 0.031657,
     "end_time": "2023-10-12T02:02:45.305418",
     "exception": false,
     "start_time": "2023-10-12T02:02:45.273761",
     "status": "completed"
    },
    "tags": []
   },
   "outputs": [
    {
     "data": {
      "text/html": [
       "<div>\n",
       "<style scoped>\n",
       "    .dataframe tbody tr th:only-of-type {\n",
       "        vertical-align: middle;\n",
       "    }\n",
       "\n",
       "    .dataframe tbody tr th {\n",
       "        vertical-align: top;\n",
       "    }\n",
       "\n",
       "    .dataframe thead th {\n",
       "        text-align: right;\n",
       "    }\n",
       "</style>\n",
       "<table border=\"1\" class=\"dataframe\">\n",
       "  <thead>\n",
       "    <tr style=\"text-align: right;\">\n",
       "      <th></th>\n",
       "      <th>Company Name</th>\n",
       "      <th>Location</th>\n",
       "      <th>Datum</th>\n",
       "      <th>Detail</th>\n",
       "      <th>Status Rocket</th>\n",
       "      <th>Rocket</th>\n",
       "      <th>Status Mission</th>\n",
       "    </tr>\n",
       "  </thead>\n",
       "  <tbody>\n",
       "    <tr>\n",
       "      <th>0</th>\n",
       "      <td>SpaceX</td>\n",
       "      <td>LC-39A, Kennedy Space Center, Florida, USA</td>\n",
       "      <td>Fri Aug 07, 2020 05:12 UTC</td>\n",
       "      <td>Falcon 9 Block 5 | Starlink V1 L9 &amp; BlackSky</td>\n",
       "      <td>StatusActive</td>\n",
       "      <td>50.0</td>\n",
       "      <td>Success</td>\n",
       "    </tr>\n",
       "    <tr>\n",
       "      <th>1</th>\n",
       "      <td>CASC</td>\n",
       "      <td>Site 9401 (SLS-2), Jiuquan Satellite Launch Ce...</td>\n",
       "      <td>Thu Aug 06, 2020 04:01 UTC</td>\n",
       "      <td>Long March 2D | Gaofen-9 04 &amp; Q-SAT</td>\n",
       "      <td>StatusActive</td>\n",
       "      <td>29.75</td>\n",
       "      <td>Success</td>\n",
       "    </tr>\n",
       "    <tr>\n",
       "      <th>2</th>\n",
       "      <td>SpaceX</td>\n",
       "      <td>Pad A, Boca Chica, Texas, USA</td>\n",
       "      <td>Tue Aug 04, 2020 23:57 UTC</td>\n",
       "      <td>Starship Prototype | 150 Meter Hop</td>\n",
       "      <td>StatusActive</td>\n",
       "      <td>NaN</td>\n",
       "      <td>Success</td>\n",
       "    </tr>\n",
       "    <tr>\n",
       "      <th>3</th>\n",
       "      <td>Roscosmos</td>\n",
       "      <td>Site 200/39, Baikonur Cosmodrome, Kazakhstan</td>\n",
       "      <td>Thu Jul 30, 2020 21:25 UTC</td>\n",
       "      <td>Proton-M/Briz-M | Ekspress-80 &amp; Ekspress-103</td>\n",
       "      <td>StatusActive</td>\n",
       "      <td>65.0</td>\n",
       "      <td>Success</td>\n",
       "    </tr>\n",
       "    <tr>\n",
       "      <th>4</th>\n",
       "      <td>ULA</td>\n",
       "      <td>SLC-41, Cape Canaveral AFS, Florida, USA</td>\n",
       "      <td>Thu Jul 30, 2020 11:50 UTC</td>\n",
       "      <td>Atlas V 541 | Perseverance</td>\n",
       "      <td>StatusActive</td>\n",
       "      <td>145.0</td>\n",
       "      <td>Success</td>\n",
       "    </tr>\n",
       "    <tr>\n",
       "      <th>...</th>\n",
       "      <td>...</td>\n",
       "      <td>...</td>\n",
       "      <td>...</td>\n",
       "      <td>...</td>\n",
       "      <td>...</td>\n",
       "      <td>...</td>\n",
       "      <td>...</td>\n",
       "    </tr>\n",
       "    <tr>\n",
       "      <th>4319</th>\n",
       "      <td>US Navy</td>\n",
       "      <td>LC-18A, Cape Canaveral AFS, Florida, USA</td>\n",
       "      <td>Wed Feb 05, 1958 07:33 UTC</td>\n",
       "      <td>Vanguard | Vanguard TV3BU</td>\n",
       "      <td>StatusRetired</td>\n",
       "      <td>NaN</td>\n",
       "      <td>Failure</td>\n",
       "    </tr>\n",
       "    <tr>\n",
       "      <th>4320</th>\n",
       "      <td>AMBA</td>\n",
       "      <td>LC-26A, Cape Canaveral AFS, Florida, USA</td>\n",
       "      <td>Sat Feb 01, 1958 03:48 UTC</td>\n",
       "      <td>Juno I | Explorer 1</td>\n",
       "      <td>StatusRetired</td>\n",
       "      <td>NaN</td>\n",
       "      <td>Success</td>\n",
       "    </tr>\n",
       "    <tr>\n",
       "      <th>4321</th>\n",
       "      <td>US Navy</td>\n",
       "      <td>LC-18A, Cape Canaveral AFS, Florida, USA</td>\n",
       "      <td>Fri Dec 06, 1957 16:44 UTC</td>\n",
       "      <td>Vanguard | Vanguard TV3</td>\n",
       "      <td>StatusRetired</td>\n",
       "      <td>NaN</td>\n",
       "      <td>Failure</td>\n",
       "    </tr>\n",
       "    <tr>\n",
       "      <th>4322</th>\n",
       "      <td>RVSN USSR</td>\n",
       "      <td>Site 1/5, Baikonur Cosmodrome, Kazakhstan</td>\n",
       "      <td>Sun Nov 03, 1957 02:30 UTC</td>\n",
       "      <td>Sputnik 8K71PS | Sputnik-2</td>\n",
       "      <td>StatusRetired</td>\n",
       "      <td>NaN</td>\n",
       "      <td>Success</td>\n",
       "    </tr>\n",
       "    <tr>\n",
       "      <th>4323</th>\n",
       "      <td>RVSN USSR</td>\n",
       "      <td>Site 1/5, Baikonur Cosmodrome, Kazakhstan</td>\n",
       "      <td>Fri Oct 04, 1957 19:28 UTC</td>\n",
       "      <td>Sputnik 8K71PS | Sputnik-1</td>\n",
       "      <td>StatusRetired</td>\n",
       "      <td>NaN</td>\n",
       "      <td>Success</td>\n",
       "    </tr>\n",
       "  </tbody>\n",
       "</table>\n",
       "<p>4323 rows × 7 columns</p>\n",
       "</div>"
      ],
      "text/plain": [
       "     Company Name                                           Location  \\\n",
       "0          SpaceX         LC-39A, Kennedy Space Center, Florida, USA   \n",
       "1            CASC  Site 9401 (SLS-2), Jiuquan Satellite Launch Ce...   \n",
       "2          SpaceX                      Pad A, Boca Chica, Texas, USA   \n",
       "3       Roscosmos       Site 200/39, Baikonur Cosmodrome, Kazakhstan   \n",
       "4             ULA           SLC-41, Cape Canaveral AFS, Florida, USA   \n",
       "...           ...                                                ...   \n",
       "4319      US Navy           LC-18A, Cape Canaveral AFS, Florida, USA   \n",
       "4320         AMBA           LC-26A, Cape Canaveral AFS, Florida, USA   \n",
       "4321      US Navy           LC-18A, Cape Canaveral AFS, Florida, USA   \n",
       "4322    RVSN USSR          Site 1/5, Baikonur Cosmodrome, Kazakhstan   \n",
       "4323    RVSN USSR          Site 1/5, Baikonur Cosmodrome, Kazakhstan   \n",
       "\n",
       "                           Datum  \\\n",
       "0     Fri Aug 07, 2020 05:12 UTC   \n",
       "1     Thu Aug 06, 2020 04:01 UTC   \n",
       "2     Tue Aug 04, 2020 23:57 UTC   \n",
       "3     Thu Jul 30, 2020 21:25 UTC   \n",
       "4     Thu Jul 30, 2020 11:50 UTC   \n",
       "...                          ...   \n",
       "4319  Wed Feb 05, 1958 07:33 UTC   \n",
       "4320  Sat Feb 01, 1958 03:48 UTC   \n",
       "4321  Fri Dec 06, 1957 16:44 UTC   \n",
       "4322  Sun Nov 03, 1957 02:30 UTC   \n",
       "4323  Fri Oct 04, 1957 19:28 UTC   \n",
       "\n",
       "                                            Detail  Status Rocket  Rocket  \\\n",
       "0     Falcon 9 Block 5 | Starlink V1 L9 & BlackSky   StatusActive   50.0    \n",
       "1              Long March 2D | Gaofen-9 04 & Q-SAT   StatusActive  29.75    \n",
       "2               Starship Prototype | 150 Meter Hop   StatusActive     NaN   \n",
       "3     Proton-M/Briz-M | Ekspress-80 & Ekspress-103   StatusActive   65.0    \n",
       "4                       Atlas V 541 | Perseverance   StatusActive  145.0    \n",
       "...                                            ...            ...     ...   \n",
       "4319                     Vanguard | Vanguard TV3BU  StatusRetired     NaN   \n",
       "4320                           Juno I | Explorer 1  StatusRetired     NaN   \n",
       "4321                       Vanguard | Vanguard TV3  StatusRetired     NaN   \n",
       "4322                    Sputnik 8K71PS | Sputnik-2  StatusRetired     NaN   \n",
       "4323                    Sputnik 8K71PS | Sputnik-1  StatusRetired     NaN   \n",
       "\n",
       "     Status Mission  \n",
       "0           Success  \n",
       "1           Success  \n",
       "2           Success  \n",
       "3           Success  \n",
       "4           Success  \n",
       "...             ...  \n",
       "4319        Failure  \n",
       "4320        Success  \n",
       "4321        Failure  \n",
       "4322        Success  \n",
       "4323        Success  \n",
       "\n",
       "[4323 rows x 7 columns]"
      ]
     },
     "execution_count": 10,
     "metadata": {},
     "output_type": "execute_result"
    }
   ],
   "source": [
    "# Remove the duplicate row\n",
    "df.drop_duplicates()"
   ]
  },
  {
   "cell_type": "code",
   "execution_count": 11,
   "id": "19fb2629",
   "metadata": {
    "execution": {
     "iopub.execute_input": "2023-10-12T02:02:45.323719Z",
     "iopub.status.busy": "2023-10-12T02:02:45.322835Z",
     "iopub.status.idle": "2023-10-12T02:02:45.329662Z",
     "shell.execute_reply": "2023-10-12T02:02:45.328854Z"
    },
    "papermill": {
     "duration": 0.018658,
     "end_time": "2023-10-12T02:02:45.331857",
     "exception": false,
     "start_time": "2023-10-12T02:02:45.313199",
     "status": "completed"
    },
    "tags": []
   },
   "outputs": [],
   "source": [
    "# Changing the data type of the \"Rocket\" column to numeric\n",
    "df['Rocket'] = pd.to_numeric(df['Rocket'], errors='coerce')"
   ]
  },
  {
   "cell_type": "code",
   "execution_count": 12,
   "id": "6710fffa",
   "metadata": {
    "execution": {
     "iopub.execute_input": "2023-10-12T02:02:45.351069Z",
     "iopub.status.busy": "2023-10-12T02:02:45.350401Z",
     "iopub.status.idle": "2023-10-12T02:02:45.358563Z",
     "shell.execute_reply": "2023-10-12T02:02:45.357564Z"
    },
    "papermill": {
     "duration": 0.020116,
     "end_time": "2023-10-12T02:02:45.360870",
     "exception": false,
     "start_time": "2023-10-12T02:02:45.340754",
     "status": "completed"
    },
    "tags": []
   },
   "outputs": [],
   "source": [
    "# Renaming the \"Rocket\" column\n",
    "df = df.rename(columns={'Rocket': 'Mission Cost'})"
   ]
  },
  {
   "cell_type": "code",
   "execution_count": 13,
   "id": "0b58560c",
   "metadata": {
    "execution": {
     "iopub.execute_input": "2023-10-12T02:02:45.380310Z",
     "iopub.status.busy": "2023-10-12T02:02:45.379381Z",
     "iopub.status.idle": "2023-10-12T02:02:45.393439Z",
     "shell.execute_reply": "2023-10-12T02:02:45.392387Z"
    },
    "papermill": {
     "duration": 0.026215,
     "end_time": "2023-10-12T02:02:45.395583",
     "exception": false,
     "start_time": "2023-10-12T02:02:45.369368",
     "status": "completed"
    },
    "tags": []
   },
   "outputs": [
    {
     "data": {
      "text/html": [
       "<div>\n",
       "<style scoped>\n",
       "    .dataframe tbody tr th:only-of-type {\n",
       "        vertical-align: middle;\n",
       "    }\n",
       "\n",
       "    .dataframe tbody tr th {\n",
       "        vertical-align: top;\n",
       "    }\n",
       "\n",
       "    .dataframe thead th {\n",
       "        text-align: right;\n",
       "    }\n",
       "</style>\n",
       "<table border=\"1\" class=\"dataframe\">\n",
       "  <thead>\n",
       "    <tr style=\"text-align: right;\">\n",
       "      <th></th>\n",
       "      <th>Company Name</th>\n",
       "      <th>Location</th>\n",
       "      <th>Datum</th>\n",
       "      <th>Detail</th>\n",
       "      <th>Status Rocket</th>\n",
       "      <th>Mission Cost</th>\n",
       "      <th>Status Mission</th>\n",
       "    </tr>\n",
       "  </thead>\n",
       "  <tbody>\n",
       "    <tr>\n",
       "      <th>0</th>\n",
       "      <td>SpaceX</td>\n",
       "      <td>LC-39A, Kennedy Space Center, Florida, USA</td>\n",
       "      <td>Fri Aug 07, 2020 05:12 UTC</td>\n",
       "      <td>Falcon 9 Block 5 | Starlink V1 L9 &amp; BlackSky</td>\n",
       "      <td>StatusActive</td>\n",
       "      <td>50.00</td>\n",
       "      <td>Success</td>\n",
       "    </tr>\n",
       "    <tr>\n",
       "      <th>1</th>\n",
       "      <td>CASC</td>\n",
       "      <td>Site 9401 (SLS-2), Jiuquan Satellite Launch Ce...</td>\n",
       "      <td>Thu Aug 06, 2020 04:01 UTC</td>\n",
       "      <td>Long March 2D | Gaofen-9 04 &amp; Q-SAT</td>\n",
       "      <td>StatusActive</td>\n",
       "      <td>29.75</td>\n",
       "      <td>Success</td>\n",
       "    </tr>\n",
       "    <tr>\n",
       "      <th>2</th>\n",
       "      <td>SpaceX</td>\n",
       "      <td>Pad A, Boca Chica, Texas, USA</td>\n",
       "      <td>Tue Aug 04, 2020 23:57 UTC</td>\n",
       "      <td>Starship Prototype | 150 Meter Hop</td>\n",
       "      <td>StatusActive</td>\n",
       "      <td>NaN</td>\n",
       "      <td>Success</td>\n",
       "    </tr>\n",
       "    <tr>\n",
       "      <th>3</th>\n",
       "      <td>Roscosmos</td>\n",
       "      <td>Site 200/39, Baikonur Cosmodrome, Kazakhstan</td>\n",
       "      <td>Thu Jul 30, 2020 21:25 UTC</td>\n",
       "      <td>Proton-M/Briz-M | Ekspress-80 &amp; Ekspress-103</td>\n",
       "      <td>StatusActive</td>\n",
       "      <td>65.00</td>\n",
       "      <td>Success</td>\n",
       "    </tr>\n",
       "    <tr>\n",
       "      <th>4</th>\n",
       "      <td>ULA</td>\n",
       "      <td>SLC-41, Cape Canaveral AFS, Florida, USA</td>\n",
       "      <td>Thu Jul 30, 2020 11:50 UTC</td>\n",
       "      <td>Atlas V 541 | Perseverance</td>\n",
       "      <td>StatusActive</td>\n",
       "      <td>145.00</td>\n",
       "      <td>Success</td>\n",
       "    </tr>\n",
       "  </tbody>\n",
       "</table>\n",
       "</div>"
      ],
      "text/plain": [
       "  Company Name                                           Location  \\\n",
       "0       SpaceX         LC-39A, Kennedy Space Center, Florida, USA   \n",
       "1         CASC  Site 9401 (SLS-2), Jiuquan Satellite Launch Ce...   \n",
       "2       SpaceX                      Pad A, Boca Chica, Texas, USA   \n",
       "3    Roscosmos       Site 200/39, Baikonur Cosmodrome, Kazakhstan   \n",
       "4          ULA           SLC-41, Cape Canaveral AFS, Florida, USA   \n",
       "\n",
       "                        Datum                                        Detail  \\\n",
       "0  Fri Aug 07, 2020 05:12 UTC  Falcon 9 Block 5 | Starlink V1 L9 & BlackSky   \n",
       "1  Thu Aug 06, 2020 04:01 UTC           Long March 2D | Gaofen-9 04 & Q-SAT   \n",
       "2  Tue Aug 04, 2020 23:57 UTC            Starship Prototype | 150 Meter Hop   \n",
       "3  Thu Jul 30, 2020 21:25 UTC  Proton-M/Briz-M | Ekspress-80 & Ekspress-103   \n",
       "4  Thu Jul 30, 2020 11:50 UTC                    Atlas V 541 | Perseverance   \n",
       "\n",
       "  Status Rocket  Mission Cost Status Mission  \n",
       "0  StatusActive         50.00        Success  \n",
       "1  StatusActive         29.75        Success  \n",
       "2  StatusActive           NaN        Success  \n",
       "3  StatusActive         65.00        Success  \n",
       "4  StatusActive        145.00        Success  "
      ]
     },
     "execution_count": 13,
     "metadata": {},
     "output_type": "execute_result"
    }
   ],
   "source": [
    "df.head()"
   ]
  },
  {
   "cell_type": "code",
   "execution_count": 14,
   "id": "9de33f82",
   "metadata": {
    "execution": {
     "iopub.execute_input": "2023-10-12T02:02:45.415328Z",
     "iopub.status.busy": "2023-10-12T02:02:45.414296Z",
     "iopub.status.idle": "2023-10-12T02:02:45.449223Z",
     "shell.execute_reply": "2023-10-12T02:02:45.448001Z"
    },
    "papermill": {
     "duration": 0.046915,
     "end_time": "2023-10-12T02:02:45.451710",
     "exception": false,
     "start_time": "2023-10-12T02:02:45.404795",
     "status": "completed"
    },
    "tags": []
   },
   "outputs": [],
   "source": [
    "# Extracting the date from the Datum column\n",
    "df['Date'] = df['Datum'].str.extract(r'(\\w{3} \\w{3} \\d{2}, \\d{4})')\n",
    "\n",
    "df.Date = pd.to_datetime(df.Date)"
   ]
  },
  {
   "cell_type": "code",
   "execution_count": 15,
   "id": "858dcbed",
   "metadata": {
    "execution": {
     "iopub.execute_input": "2023-10-12T02:02:45.470404Z",
     "iopub.status.busy": "2023-10-12T02:02:45.469344Z",
     "iopub.status.idle": "2023-10-12T02:02:45.483538Z",
     "shell.execute_reply": "2023-10-12T02:02:45.482264Z"
    },
    "papermill": {
     "duration": 0.02654,
     "end_time": "2023-10-12T02:02:45.486332",
     "exception": false,
     "start_time": "2023-10-12T02:02:45.459792",
     "status": "completed"
    },
    "tags": []
   },
   "outputs": [],
   "source": [
    "# Extracting the time from the Datum column\n",
    "df['Time'] = df['Datum'].str.extract(r'(\\d+:\\d+)')"
   ]
  },
  {
   "cell_type": "code",
   "execution_count": 16,
   "id": "8238ab86",
   "metadata": {
    "execution": {
     "iopub.execute_input": "2023-10-12T02:02:45.504557Z",
     "iopub.status.busy": "2023-10-12T02:02:45.504215Z",
     "iopub.status.idle": "2023-10-12T02:02:45.517203Z",
     "shell.execute_reply": "2023-10-12T02:02:45.515736Z"
    },
    "papermill": {
     "duration": 0.025051,
     "end_time": "2023-10-12T02:02:45.519548",
     "exception": false,
     "start_time": "2023-10-12T02:02:45.494497",
     "status": "completed"
    },
    "tags": []
   },
   "outputs": [],
   "source": [
    "# Adding a Time Zone column\n",
    "df['Time Zone'] = df['Datum'].str.split().str[-1]"
   ]
  },
  {
   "cell_type": "code",
   "execution_count": 17,
   "id": "96e3584d",
   "metadata": {
    "execution": {
     "iopub.execute_input": "2023-10-12T02:02:45.538939Z",
     "iopub.status.busy": "2023-10-12T02:02:45.538410Z",
     "iopub.status.idle": "2023-10-12T02:02:45.550882Z",
     "shell.execute_reply": "2023-10-12T02:02:45.550194Z"
    },
    "papermill": {
     "duration": 0.02466,
     "end_time": "2023-10-12T02:02:45.553216",
     "exception": false,
     "start_time": "2023-10-12T02:02:45.528556",
     "status": "completed"
    },
    "tags": []
   },
   "outputs": [
    {
     "data": {
      "text/html": [
       "<div>\n",
       "<style scoped>\n",
       "    .dataframe tbody tr th:only-of-type {\n",
       "        vertical-align: middle;\n",
       "    }\n",
       "\n",
       "    .dataframe tbody tr th {\n",
       "        vertical-align: top;\n",
       "    }\n",
       "\n",
       "    .dataframe thead th {\n",
       "        text-align: right;\n",
       "    }\n",
       "</style>\n",
       "<table border=\"1\" class=\"dataframe\">\n",
       "  <thead>\n",
       "    <tr style=\"text-align: right;\">\n",
       "      <th></th>\n",
       "      <th>Company Name</th>\n",
       "      <th>Location</th>\n",
       "      <th>Datum</th>\n",
       "      <th>Detail</th>\n",
       "      <th>Status Rocket</th>\n",
       "      <th>Mission Cost</th>\n",
       "      <th>Status Mission</th>\n",
       "      <th>Date</th>\n",
       "      <th>Time</th>\n",
       "      <th>Time Zone</th>\n",
       "    </tr>\n",
       "  </thead>\n",
       "  <tbody>\n",
       "    <tr>\n",
       "      <th>0</th>\n",
       "      <td>SpaceX</td>\n",
       "      <td>LC-39A, Kennedy Space Center, Florida, USA</td>\n",
       "      <td>Fri Aug 07, 2020 05:12 UTC</td>\n",
       "      <td>Falcon 9 Block 5 | Starlink V1 L9 &amp; BlackSky</td>\n",
       "      <td>StatusActive</td>\n",
       "      <td>50.00</td>\n",
       "      <td>Success</td>\n",
       "      <td>2020-08-07</td>\n",
       "      <td>05:12</td>\n",
       "      <td>UTC</td>\n",
       "    </tr>\n",
       "    <tr>\n",
       "      <th>1</th>\n",
       "      <td>CASC</td>\n",
       "      <td>Site 9401 (SLS-2), Jiuquan Satellite Launch Ce...</td>\n",
       "      <td>Thu Aug 06, 2020 04:01 UTC</td>\n",
       "      <td>Long March 2D | Gaofen-9 04 &amp; Q-SAT</td>\n",
       "      <td>StatusActive</td>\n",
       "      <td>29.75</td>\n",
       "      <td>Success</td>\n",
       "      <td>2020-08-06</td>\n",
       "      <td>04:01</td>\n",
       "      <td>UTC</td>\n",
       "    </tr>\n",
       "    <tr>\n",
       "      <th>2</th>\n",
       "      <td>SpaceX</td>\n",
       "      <td>Pad A, Boca Chica, Texas, USA</td>\n",
       "      <td>Tue Aug 04, 2020 23:57 UTC</td>\n",
       "      <td>Starship Prototype | 150 Meter Hop</td>\n",
       "      <td>StatusActive</td>\n",
       "      <td>NaN</td>\n",
       "      <td>Success</td>\n",
       "      <td>2020-08-04</td>\n",
       "      <td>23:57</td>\n",
       "      <td>UTC</td>\n",
       "    </tr>\n",
       "    <tr>\n",
       "      <th>3</th>\n",
       "      <td>Roscosmos</td>\n",
       "      <td>Site 200/39, Baikonur Cosmodrome, Kazakhstan</td>\n",
       "      <td>Thu Jul 30, 2020 21:25 UTC</td>\n",
       "      <td>Proton-M/Briz-M | Ekspress-80 &amp; Ekspress-103</td>\n",
       "      <td>StatusActive</td>\n",
       "      <td>65.00</td>\n",
       "      <td>Success</td>\n",
       "      <td>2020-07-30</td>\n",
       "      <td>21:25</td>\n",
       "      <td>UTC</td>\n",
       "    </tr>\n",
       "    <tr>\n",
       "      <th>4</th>\n",
       "      <td>ULA</td>\n",
       "      <td>SLC-41, Cape Canaveral AFS, Florida, USA</td>\n",
       "      <td>Thu Jul 30, 2020 11:50 UTC</td>\n",
       "      <td>Atlas V 541 | Perseverance</td>\n",
       "      <td>StatusActive</td>\n",
       "      <td>145.00</td>\n",
       "      <td>Success</td>\n",
       "      <td>2020-07-30</td>\n",
       "      <td>11:50</td>\n",
       "      <td>UTC</td>\n",
       "    </tr>\n",
       "  </tbody>\n",
       "</table>\n",
       "</div>"
      ],
      "text/plain": [
       "  Company Name                                           Location  \\\n",
       "0       SpaceX         LC-39A, Kennedy Space Center, Florida, USA   \n",
       "1         CASC  Site 9401 (SLS-2), Jiuquan Satellite Launch Ce...   \n",
       "2       SpaceX                      Pad A, Boca Chica, Texas, USA   \n",
       "3    Roscosmos       Site 200/39, Baikonur Cosmodrome, Kazakhstan   \n",
       "4          ULA           SLC-41, Cape Canaveral AFS, Florida, USA   \n",
       "\n",
       "                        Datum                                        Detail  \\\n",
       "0  Fri Aug 07, 2020 05:12 UTC  Falcon 9 Block 5 | Starlink V1 L9 & BlackSky   \n",
       "1  Thu Aug 06, 2020 04:01 UTC           Long March 2D | Gaofen-9 04 & Q-SAT   \n",
       "2  Tue Aug 04, 2020 23:57 UTC            Starship Prototype | 150 Meter Hop   \n",
       "3  Thu Jul 30, 2020 21:25 UTC  Proton-M/Briz-M | Ekspress-80 & Ekspress-103   \n",
       "4  Thu Jul 30, 2020 11:50 UTC                    Atlas V 541 | Perseverance   \n",
       "\n",
       "  Status Rocket  Mission Cost Status Mission       Date   Time Time Zone  \n",
       "0  StatusActive         50.00        Success 2020-08-07  05:12       UTC  \n",
       "1  StatusActive         29.75        Success 2020-08-06  04:01       UTC  \n",
       "2  StatusActive           NaN        Success 2020-08-04  23:57       UTC  \n",
       "3  StatusActive         65.00        Success 2020-07-30  21:25       UTC  \n",
       "4  StatusActive        145.00        Success 2020-07-30  11:50       UTC  "
      ]
     },
     "execution_count": 17,
     "metadata": {},
     "output_type": "execute_result"
    }
   ],
   "source": [
    "df.head()"
   ]
  },
  {
   "cell_type": "markdown",
   "id": "3518139d",
   "metadata": {
    "papermill": {
     "duration": 0.008236,
     "end_time": "2023-10-12T02:02:45.569789",
     "exception": false,
     "start_time": "2023-10-12T02:02:45.561553",
     "status": "completed"
    },
    "tags": []
   },
   "source": [
    "### Fixing time zones \n",
    "\n",
    "Some timezones are not UTC, and instead have the year number. I fixed this in the cell below. "
   ]
  },
  {
   "cell_type": "code",
   "execution_count": 18,
   "id": "58bf24e7",
   "metadata": {
    "execution": {
     "iopub.execute_input": "2023-10-12T02:02:45.588226Z",
     "iopub.status.busy": "2023-10-12T02:02:45.587871Z",
     "iopub.status.idle": "2023-10-12T02:02:45.597241Z",
     "shell.execute_reply": "2023-10-12T02:02:45.596007Z"
    },
    "papermill": {
     "duration": 0.021392,
     "end_time": "2023-10-12T02:02:45.599534",
     "exception": false,
     "start_time": "2023-10-12T02:02:45.578142",
     "status": "completed"
    },
    "tags": []
   },
   "outputs": [
    {
     "data": {
      "text/plain": [
       "Time Zone\n",
       "UTC     4198\n",
       "2015       6\n",
       "1958       6\n",
       "1981       5\n",
       "1977       5\n",
       "1973       4\n",
       "2012       4\n",
       "1964       4\n",
       "1967       4\n",
       "1990       4\n",
       "1978       4\n",
       "1976       4\n",
       "1999       4\n",
       "1972       3\n",
       "1988       3\n",
       "1980       3\n",
       "1979       3\n",
       "1985       3\n",
       "2002       3\n",
       "2003       3\n",
       "1971       3\n",
       "1968       3\n",
       "1966       3\n",
       "1963       3\n",
       "2017       2\n",
       "1969       2\n",
       "1983       2\n",
       "2016       2\n",
       "1984       2\n",
       "2019       2\n",
       "1987       2\n",
       "1989       2\n",
       "1991       2\n",
       "1994       2\n",
       "2007       1\n",
       "1960       1\n",
       "1962       1\n",
       "2014       1\n",
       "2011       1\n",
       "1965       1\n",
       "2010       1\n",
       "2009       1\n",
       "2008       1\n",
       "2004       1\n",
       "1970       1\n",
       "1982       1\n",
       "2001       1\n",
       "1998       1\n",
       "1974       1\n",
       "1975       1\n",
       "1997       1\n",
       "1995       1\n",
       "1986       1\n",
       "Name: count, dtype: int64"
      ]
     },
     "execution_count": 18,
     "metadata": {},
     "output_type": "execute_result"
    }
   ],
   "source": [
    "df['Time Zone'].value_counts()"
   ]
  },
  {
   "cell_type": "code",
   "execution_count": 19,
   "id": "0f119f69",
   "metadata": {
    "execution": {
     "iopub.execute_input": "2023-10-12T02:02:45.620241Z",
     "iopub.status.busy": "2023-10-12T02:02:45.618951Z",
     "iopub.status.idle": "2023-10-12T02:02:45.625267Z",
     "shell.execute_reply": "2023-10-12T02:02:45.624155Z"
    },
    "papermill": {
     "duration": 0.019,
     "end_time": "2023-10-12T02:02:45.627643",
     "exception": false,
     "start_time": "2023-10-12T02:02:45.608643",
     "status": "completed"
    },
    "tags": []
   },
   "outputs": [],
   "source": [
    "# Making the time zone UTC for all, as only 100 values or so didn't have the time zone. \n",
    "df['Time Zone'] = \"UTC\""
   ]
  },
  {
   "cell_type": "code",
   "execution_count": 20,
   "id": "ed6e78fd",
   "metadata": {
    "execution": {
     "iopub.execute_input": "2023-10-12T02:02:45.737532Z",
     "iopub.status.busy": "2023-10-12T02:02:45.737131Z",
     "iopub.status.idle": "2023-10-12T02:02:45.769618Z",
     "shell.execute_reply": "2023-10-12T02:02:45.768520Z"
    },
    "papermill": {
     "duration": 0.135763,
     "end_time": "2023-10-12T02:02:45.772118",
     "exception": false,
     "start_time": "2023-10-12T02:02:45.636355",
     "status": "completed"
    },
    "tags": []
   },
   "outputs": [
    {
     "data": {
      "text/html": [
       "<div>\n",
       "<style scoped>\n",
       "    .dataframe tbody tr th:only-of-type {\n",
       "        vertical-align: middle;\n",
       "    }\n",
       "\n",
       "    .dataframe tbody tr th {\n",
       "        vertical-align: top;\n",
       "    }\n",
       "\n",
       "    .dataframe thead th {\n",
       "        text-align: right;\n",
       "    }\n",
       "</style>\n",
       "<table border=\"1\" class=\"dataframe\">\n",
       "  <thead>\n",
       "    <tr style=\"text-align: right;\">\n",
       "      <th></th>\n",
       "      <th>Company Name</th>\n",
       "      <th>Location</th>\n",
       "      <th>Datum</th>\n",
       "      <th>Detail</th>\n",
       "      <th>Status Rocket</th>\n",
       "      <th>Status Mission</th>\n",
       "      <th>Time</th>\n",
       "      <th>Time Zone</th>\n",
       "    </tr>\n",
       "  </thead>\n",
       "  <tbody>\n",
       "    <tr>\n",
       "      <th>count</th>\n",
       "      <td>4324</td>\n",
       "      <td>4324</td>\n",
       "      <td>4324</td>\n",
       "      <td>4324</td>\n",
       "      <td>4324</td>\n",
       "      <td>4324</td>\n",
       "      <td>4198</td>\n",
       "      <td>4324</td>\n",
       "    </tr>\n",
       "    <tr>\n",
       "      <th>unique</th>\n",
       "      <td>56</td>\n",
       "      <td>137</td>\n",
       "      <td>4319</td>\n",
       "      <td>4278</td>\n",
       "      <td>2</td>\n",
       "      <td>4</td>\n",
       "      <td>1273</td>\n",
       "      <td>1</td>\n",
       "    </tr>\n",
       "    <tr>\n",
       "      <th>top</th>\n",
       "      <td>RVSN USSR</td>\n",
       "      <td>Site 31/6, Baikonur Cosmodrome, Kazakhstan</td>\n",
       "      <td>Wed Nov 05, 2008 00:15 UTC</td>\n",
       "      <td>Cosmos-3MRB (65MRB) | BOR-5 Shuttle</td>\n",
       "      <td>StatusRetired</td>\n",
       "      <td>Success</td>\n",
       "      <td>12:00</td>\n",
       "      <td>UTC</td>\n",
       "    </tr>\n",
       "    <tr>\n",
       "      <th>freq</th>\n",
       "      <td>1777</td>\n",
       "      <td>235</td>\n",
       "      <td>2</td>\n",
       "      <td>6</td>\n",
       "      <td>3534</td>\n",
       "      <td>3879</td>\n",
       "      <td>51</td>\n",
       "      <td>4324</td>\n",
       "    </tr>\n",
       "  </tbody>\n",
       "</table>\n",
       "</div>"
      ],
      "text/plain": [
       "       Company Name                                    Location  \\\n",
       "count          4324                                        4324   \n",
       "unique           56                                         137   \n",
       "top       RVSN USSR  Site 31/6, Baikonur Cosmodrome, Kazakhstan   \n",
       "freq           1777                                         235   \n",
       "\n",
       "                             Datum                               Detail  \\\n",
       "count                         4324                                 4324   \n",
       "unique                        4319                                 4278   \n",
       "top     Wed Nov 05, 2008 00:15 UTC  Cosmos-3MRB (65MRB) | BOR-5 Shuttle   \n",
       "freq                             2                                    6   \n",
       "\n",
       "        Status Rocket Status Mission   Time Time Zone  \n",
       "count            4324           4324   4198      4324  \n",
       "unique              2              4   1273         1  \n",
       "top     StatusRetired        Success  12:00       UTC  \n",
       "freq             3534           3879     51      4324  "
      ]
     },
     "execution_count": 20,
     "metadata": {},
     "output_type": "execute_result"
    }
   ],
   "source": [
    "df.describe(include=['object'])"
   ]
  },
  {
   "cell_type": "code",
   "execution_count": 21,
   "id": "c7831247",
   "metadata": {
    "execution": {
     "iopub.execute_input": "2023-10-12T02:02:45.792217Z",
     "iopub.status.busy": "2023-10-12T02:02:45.791600Z",
     "iopub.status.idle": "2023-10-12T02:02:45.799611Z",
     "shell.execute_reply": "2023-10-12T02:02:45.798526Z"
    },
    "papermill": {
     "duration": 0.020111,
     "end_time": "2023-10-12T02:02:45.801702",
     "exception": false,
     "start_time": "2023-10-12T02:02:45.781591",
     "status": "completed"
    },
    "tags": []
   },
   "outputs": [
    {
     "data": {
      "text/plain": [
       "126"
      ]
     },
     "execution_count": 21,
     "metadata": {},
     "output_type": "execute_result"
    }
   ],
   "source": [
    "df.Time.isnull().sum()"
   ]
  },
  {
   "cell_type": "markdown",
   "id": "13b34039",
   "metadata": {
    "papermill": {
     "duration": 0.008312,
     "end_time": "2023-10-12T02:02:45.818865",
     "exception": false,
     "start_time": "2023-10-12T02:02:45.810553",
     "status": "completed"
    },
    "tags": []
   },
   "source": [
    "# Data visualization"
   ]
  },
  {
   "cell_type": "code",
   "execution_count": 22,
   "id": "780456e7",
   "metadata": {
    "execution": {
     "iopub.execute_input": "2023-10-12T02:02:45.838546Z",
     "iopub.status.busy": "2023-10-12T02:02:45.838216Z",
     "iopub.status.idle": "2023-10-12T02:02:45.853698Z",
     "shell.execute_reply": "2023-10-12T02:02:45.852418Z"
    },
    "papermill": {
     "duration": 0.028361,
     "end_time": "2023-10-12T02:02:45.856083",
     "exception": false,
     "start_time": "2023-10-12T02:02:45.827722",
     "status": "completed"
    },
    "tags": []
   },
   "outputs": [
    {
     "data": {
      "text/html": [
       "<div>\n",
       "<style scoped>\n",
       "    .dataframe tbody tr th:only-of-type {\n",
       "        vertical-align: middle;\n",
       "    }\n",
       "\n",
       "    .dataframe tbody tr th {\n",
       "        vertical-align: top;\n",
       "    }\n",
       "\n",
       "    .dataframe thead th {\n",
       "        text-align: right;\n",
       "    }\n",
       "</style>\n",
       "<table border=\"1\" class=\"dataframe\">\n",
       "  <thead>\n",
       "    <tr style=\"text-align: right;\">\n",
       "      <th></th>\n",
       "      <th>Company Name</th>\n",
       "      <th>Location</th>\n",
       "      <th>Datum</th>\n",
       "      <th>Detail</th>\n",
       "      <th>Status Rocket</th>\n",
       "      <th>Mission Cost</th>\n",
       "      <th>Status Mission</th>\n",
       "      <th>Date</th>\n",
       "      <th>Time</th>\n",
       "      <th>Time Zone</th>\n",
       "    </tr>\n",
       "  </thead>\n",
       "  <tbody>\n",
       "    <tr>\n",
       "      <th>0</th>\n",
       "      <td>SpaceX</td>\n",
       "      <td>LC-39A, Kennedy Space Center, Florida, USA</td>\n",
       "      <td>Fri Aug 07, 2020 05:12 UTC</td>\n",
       "      <td>Falcon 9 Block 5 | Starlink V1 L9 &amp; BlackSky</td>\n",
       "      <td>StatusActive</td>\n",
       "      <td>50.00</td>\n",
       "      <td>Success</td>\n",
       "      <td>2020-08-07</td>\n",
       "      <td>05:12</td>\n",
       "      <td>UTC</td>\n",
       "    </tr>\n",
       "    <tr>\n",
       "      <th>1</th>\n",
       "      <td>CASC</td>\n",
       "      <td>Site 9401 (SLS-2), Jiuquan Satellite Launch Ce...</td>\n",
       "      <td>Thu Aug 06, 2020 04:01 UTC</td>\n",
       "      <td>Long March 2D | Gaofen-9 04 &amp; Q-SAT</td>\n",
       "      <td>StatusActive</td>\n",
       "      <td>29.75</td>\n",
       "      <td>Success</td>\n",
       "      <td>2020-08-06</td>\n",
       "      <td>04:01</td>\n",
       "      <td>UTC</td>\n",
       "    </tr>\n",
       "    <tr>\n",
       "      <th>2</th>\n",
       "      <td>SpaceX</td>\n",
       "      <td>Pad A, Boca Chica, Texas, USA</td>\n",
       "      <td>Tue Aug 04, 2020 23:57 UTC</td>\n",
       "      <td>Starship Prototype | 150 Meter Hop</td>\n",
       "      <td>StatusActive</td>\n",
       "      <td>NaN</td>\n",
       "      <td>Success</td>\n",
       "      <td>2020-08-04</td>\n",
       "      <td>23:57</td>\n",
       "      <td>UTC</td>\n",
       "    </tr>\n",
       "    <tr>\n",
       "      <th>3</th>\n",
       "      <td>Roscosmos</td>\n",
       "      <td>Site 200/39, Baikonur Cosmodrome, Kazakhstan</td>\n",
       "      <td>Thu Jul 30, 2020 21:25 UTC</td>\n",
       "      <td>Proton-M/Briz-M | Ekspress-80 &amp; Ekspress-103</td>\n",
       "      <td>StatusActive</td>\n",
       "      <td>65.00</td>\n",
       "      <td>Success</td>\n",
       "      <td>2020-07-30</td>\n",
       "      <td>21:25</td>\n",
       "      <td>UTC</td>\n",
       "    </tr>\n",
       "    <tr>\n",
       "      <th>4</th>\n",
       "      <td>ULA</td>\n",
       "      <td>SLC-41, Cape Canaveral AFS, Florida, USA</td>\n",
       "      <td>Thu Jul 30, 2020 11:50 UTC</td>\n",
       "      <td>Atlas V 541 | Perseverance</td>\n",
       "      <td>StatusActive</td>\n",
       "      <td>145.00</td>\n",
       "      <td>Success</td>\n",
       "      <td>2020-07-30</td>\n",
       "      <td>11:50</td>\n",
       "      <td>UTC</td>\n",
       "    </tr>\n",
       "  </tbody>\n",
       "</table>\n",
       "</div>"
      ],
      "text/plain": [
       "  Company Name                                           Location  \\\n",
       "0       SpaceX         LC-39A, Kennedy Space Center, Florida, USA   \n",
       "1         CASC  Site 9401 (SLS-2), Jiuquan Satellite Launch Ce...   \n",
       "2       SpaceX                      Pad A, Boca Chica, Texas, USA   \n",
       "3    Roscosmos       Site 200/39, Baikonur Cosmodrome, Kazakhstan   \n",
       "4          ULA           SLC-41, Cape Canaveral AFS, Florida, USA   \n",
       "\n",
       "                        Datum                                        Detail  \\\n",
       "0  Fri Aug 07, 2020 05:12 UTC  Falcon 9 Block 5 | Starlink V1 L9 & BlackSky   \n",
       "1  Thu Aug 06, 2020 04:01 UTC           Long March 2D | Gaofen-9 04 & Q-SAT   \n",
       "2  Tue Aug 04, 2020 23:57 UTC            Starship Prototype | 150 Meter Hop   \n",
       "3  Thu Jul 30, 2020 21:25 UTC  Proton-M/Briz-M | Ekspress-80 & Ekspress-103   \n",
       "4  Thu Jul 30, 2020 11:50 UTC                    Atlas V 541 | Perseverance   \n",
       "\n",
       "  Status Rocket  Mission Cost Status Mission       Date   Time Time Zone  \n",
       "0  StatusActive         50.00        Success 2020-08-07  05:12       UTC  \n",
       "1  StatusActive         29.75        Success 2020-08-06  04:01       UTC  \n",
       "2  StatusActive           NaN        Success 2020-08-04  23:57       UTC  \n",
       "3  StatusActive         65.00        Success 2020-07-30  21:25       UTC  \n",
       "4  StatusActive        145.00        Success 2020-07-30  11:50       UTC  "
      ]
     },
     "execution_count": 22,
     "metadata": {},
     "output_type": "execute_result"
    }
   ],
   "source": [
    "df.head()"
   ]
  },
  {
   "cell_type": "code",
   "execution_count": 23,
   "id": "429e5912",
   "metadata": {
    "execution": {
     "iopub.execute_input": "2023-10-12T02:02:45.876500Z",
     "iopub.status.busy": "2023-10-12T02:02:45.876169Z",
     "iopub.status.idle": "2023-10-12T02:02:46.608315Z",
     "shell.execute_reply": "2023-10-12T02:02:46.607153Z"
    },
    "papermill": {
     "duration": 0.746058,
     "end_time": "2023-10-12T02:02:46.611630",
     "exception": false,
     "start_time": "2023-10-12T02:02:45.865572",
     "status": "completed"
    },
    "tags": []
   },
   "outputs": [
    {
     "data": {
      "image/png": "[encoded data removed]",
      "text/plain": [
       "<Figure size 1000x1000 with 1 Axes>"
      ]
     },
     "metadata": {},
     "output_type": "display_data"
    }
   ],
   "source": [
    "# Group the data by 'Company Name' and count the missions\n",
    "mission_count = df['Company Name'].value_counts().reset_index()\n",
    "mission_count.columns = ['Company Name', 'Missions Count']\n",
    "\n",
    "plt.figure(figsize=(10, 10))\n",
    "sns.barplot(y='Company Name', x='Missions Count', data=mission_count)\n",
    "plt.title('Number of Missions by Company')\n",
    "plt.xlabel('Company Name')\n",
    "plt.ylabel('Number of Missions')\n",
    "plt.xticks(rotation=45, horizontalalignment='right')\n",
    "plt.show()"
   ]
  },
  {
   "cell_type": "code",
   "execution_count": 24,
   "id": "04c554a1",
   "metadata": {
    "collapsed": true,
    "execution": {
     "iopub.execute_input": "2023-10-12T02:02:46.634756Z",
     "iopub.status.busy": "2023-10-12T02:02:46.633501Z",
     "iopub.status.idle": "2023-10-12T02:02:46.645329Z",
     "shell.execute_reply": "2023-10-12T02:02:46.644286Z"
    },
    "jupyter": {
     "outputs_hidden": true
    },
    "papermill": {
     "duration": 0.025113,
     "end_time": "2023-10-12T02:02:46.647311",
     "exception": false,
     "start_time": "2023-10-12T02:02:46.622198",
     "status": "completed"
    },
    "tags": []
   },
   "outputs": [
    {
     "data": {
      "text/html": [
       "<div>\n",
       "<style scoped>\n",
       "    .dataframe tbody tr th:only-of-type {\n",
       "        vertical-align: middle;\n",
       "    }\n",
       "\n",
       "    .dataframe tbody tr th {\n",
       "        vertical-align: top;\n",
       "    }\n",
       "\n",
       "    .dataframe thead th {\n",
       "        text-align: right;\n",
       "    }\n",
       "</style>\n",
       "<table border=\"1\" class=\"dataframe\">\n",
       "  <thead>\n",
       "    <tr style=\"text-align: right;\">\n",
       "      <th></th>\n",
       "      <th>Company Name</th>\n",
       "      <th>Missions Count</th>\n",
       "    </tr>\n",
       "  </thead>\n",
       "  <tbody>\n",
       "    <tr>\n",
       "      <th>0</th>\n",
       "      <td>RVSN USSR</td>\n",
       "      <td>1777</td>\n",
       "    </tr>\n",
       "    <tr>\n",
       "      <th>1</th>\n",
       "      <td>Arianespace</td>\n",
       "      <td>279</td>\n",
       "    </tr>\n",
       "    <tr>\n",
       "      <th>2</th>\n",
       "      <td>CASC</td>\n",
       "      <td>251</td>\n",
       "    </tr>\n",
       "    <tr>\n",
       "      <th>3</th>\n",
       "      <td>General Dynamics</td>\n",
       "      <td>251</td>\n",
       "    </tr>\n",
       "    <tr>\n",
       "      <th>4</th>\n",
       "      <td>NASA</td>\n",
       "      <td>203</td>\n",
       "    </tr>\n",
       "    <tr>\n",
       "      <th>5</th>\n",
       "      <td>VKS RF</td>\n",
       "      <td>201</td>\n",
       "    </tr>\n",
       "    <tr>\n",
       "      <th>6</th>\n",
       "      <td>US Air Force</td>\n",
       "      <td>161</td>\n",
       "    </tr>\n",
       "    <tr>\n",
       "      <th>7</th>\n",
       "      <td>ULA</td>\n",
       "      <td>140</td>\n",
       "    </tr>\n",
       "    <tr>\n",
       "      <th>8</th>\n",
       "      <td>Boeing</td>\n",
       "      <td>136</td>\n",
       "    </tr>\n",
       "    <tr>\n",
       "      <th>9</th>\n",
       "      <td>Martin Marietta</td>\n",
       "      <td>114</td>\n",
       "    </tr>\n",
       "    <tr>\n",
       "      <th>10</th>\n",
       "      <td>SpaceX</td>\n",
       "      <td>100</td>\n",
       "    </tr>\n",
       "    <tr>\n",
       "      <th>11</th>\n",
       "      <td>MHI</td>\n",
       "      <td>84</td>\n",
       "    </tr>\n",
       "    <tr>\n",
       "      <th>12</th>\n",
       "      <td>Northrop</td>\n",
       "      <td>83</td>\n",
       "    </tr>\n",
       "    <tr>\n",
       "      <th>13</th>\n",
       "      <td>Lockheed</td>\n",
       "      <td>79</td>\n",
       "    </tr>\n",
       "    <tr>\n",
       "      <th>14</th>\n",
       "      <td>ISRO</td>\n",
       "      <td>76</td>\n",
       "    </tr>\n",
       "    <tr>\n",
       "      <th>15</th>\n",
       "      <td>Roscosmos</td>\n",
       "      <td>55</td>\n",
       "    </tr>\n",
       "    <tr>\n",
       "      <th>16</th>\n",
       "      <td>ILS</td>\n",
       "      <td>46</td>\n",
       "    </tr>\n",
       "    <tr>\n",
       "      <th>17</th>\n",
       "      <td>Sea Launch</td>\n",
       "      <td>36</td>\n",
       "    </tr>\n",
       "    <tr>\n",
       "      <th>18</th>\n",
       "      <td>ISAS</td>\n",
       "      <td>30</td>\n",
       "    </tr>\n",
       "    <tr>\n",
       "      <th>19</th>\n",
       "      <td>Kosmotras</td>\n",
       "      <td>22</td>\n",
       "    </tr>\n",
       "    <tr>\n",
       "      <th>20</th>\n",
       "      <td>US Navy</td>\n",
       "      <td>17</td>\n",
       "    </tr>\n",
       "    <tr>\n",
       "      <th>21</th>\n",
       "      <td>ISA</td>\n",
       "      <td>13</td>\n",
       "    </tr>\n",
       "    <tr>\n",
       "      <th>22</th>\n",
       "      <td>Rocket Lab</td>\n",
       "      <td>13</td>\n",
       "    </tr>\n",
       "    <tr>\n",
       "      <th>23</th>\n",
       "      <td>Eurockot</td>\n",
       "      <td>13</td>\n",
       "    </tr>\n",
       "    <tr>\n",
       "      <th>24</th>\n",
       "      <td>ESA</td>\n",
       "      <td>13</td>\n",
       "    </tr>\n",
       "    <tr>\n",
       "      <th>25</th>\n",
       "      <td>Blue Origin</td>\n",
       "      <td>12</td>\n",
       "    </tr>\n",
       "    <tr>\n",
       "      <th>26</th>\n",
       "      <td>IAI</td>\n",
       "      <td>11</td>\n",
       "    </tr>\n",
       "    <tr>\n",
       "      <th>27</th>\n",
       "      <td>ExPace</td>\n",
       "      <td>10</td>\n",
       "    </tr>\n",
       "    <tr>\n",
       "      <th>28</th>\n",
       "      <td>ASI</td>\n",
       "      <td>9</td>\n",
       "    </tr>\n",
       "    <tr>\n",
       "      <th>29</th>\n",
       "      <td>CNES</td>\n",
       "      <td>8</td>\n",
       "    </tr>\n",
       "    <tr>\n",
       "      <th>30</th>\n",
       "      <td>AMBA</td>\n",
       "      <td>8</td>\n",
       "    </tr>\n",
       "    <tr>\n",
       "      <th>31</th>\n",
       "      <td>MITT</td>\n",
       "      <td>7</td>\n",
       "    </tr>\n",
       "    <tr>\n",
       "      <th>32</th>\n",
       "      <td>JAXA</td>\n",
       "      <td>7</td>\n",
       "    </tr>\n",
       "    <tr>\n",
       "      <th>33</th>\n",
       "      <td>Land Launch</td>\n",
       "      <td>7</td>\n",
       "    </tr>\n",
       "    <tr>\n",
       "      <th>34</th>\n",
       "      <td>UT</td>\n",
       "      <td>5</td>\n",
       "    </tr>\n",
       "    <tr>\n",
       "      <th>35</th>\n",
       "      <td>KCST</td>\n",
       "      <td>5</td>\n",
       "    </tr>\n",
       "    <tr>\n",
       "      <th>36</th>\n",
       "      <td>CASIC</td>\n",
       "      <td>5</td>\n",
       "    </tr>\n",
       "    <tr>\n",
       "      <th>37</th>\n",
       "      <td>Exos</td>\n",
       "      <td>4</td>\n",
       "    </tr>\n",
       "    <tr>\n",
       "      <th>38</th>\n",
       "      <td>CECLES</td>\n",
       "      <td>4</td>\n",
       "    </tr>\n",
       "    <tr>\n",
       "      <th>39</th>\n",
       "      <td>Arm??e de l'Air</td>\n",
       "      <td>4</td>\n",
       "    </tr>\n",
       "    <tr>\n",
       "      <th>40</th>\n",
       "      <td>KARI</td>\n",
       "      <td>3</td>\n",
       "    </tr>\n",
       "    <tr>\n",
       "      <th>41</th>\n",
       "      <td>SRC</td>\n",
       "      <td>3</td>\n",
       "    </tr>\n",
       "    <tr>\n",
       "      <th>42</th>\n",
       "      <td>AEB</td>\n",
       "      <td>3</td>\n",
       "    </tr>\n",
       "    <tr>\n",
       "      <th>43</th>\n",
       "      <td>RAE</td>\n",
       "      <td>2</td>\n",
       "    </tr>\n",
       "    <tr>\n",
       "      <th>44</th>\n",
       "      <td>OKB-586</td>\n",
       "      <td>2</td>\n",
       "    </tr>\n",
       "    <tr>\n",
       "      <th>45</th>\n",
       "      <td>Yuzhmash</td>\n",
       "      <td>2</td>\n",
       "    </tr>\n",
       "    <tr>\n",
       "      <th>46</th>\n",
       "      <td>Landspace</td>\n",
       "      <td>1</td>\n",
       "    </tr>\n",
       "    <tr>\n",
       "      <th>47</th>\n",
       "      <td>Douglas</td>\n",
       "      <td>1</td>\n",
       "    </tr>\n",
       "    <tr>\n",
       "      <th>48</th>\n",
       "      <td>EER</td>\n",
       "      <td>1</td>\n",
       "    </tr>\n",
       "    <tr>\n",
       "      <th>49</th>\n",
       "      <td>Starsem</td>\n",
       "      <td>1</td>\n",
       "    </tr>\n",
       "    <tr>\n",
       "      <th>50</th>\n",
       "      <td>Virgin Orbit</td>\n",
       "      <td>1</td>\n",
       "    </tr>\n",
       "    <tr>\n",
       "      <th>51</th>\n",
       "      <td>IRGC</td>\n",
       "      <td>1</td>\n",
       "    </tr>\n",
       "    <tr>\n",
       "      <th>52</th>\n",
       "      <td>i-Space</td>\n",
       "      <td>1</td>\n",
       "    </tr>\n",
       "    <tr>\n",
       "      <th>53</th>\n",
       "      <td>OneSpace</td>\n",
       "      <td>1</td>\n",
       "    </tr>\n",
       "    <tr>\n",
       "      <th>54</th>\n",
       "      <td>Sandia</td>\n",
       "      <td>1</td>\n",
       "    </tr>\n",
       "    <tr>\n",
       "      <th>55</th>\n",
       "      <td>Khrunichev</td>\n",
       "      <td>1</td>\n",
       "    </tr>\n",
       "  </tbody>\n",
       "</table>\n",
       "</div>"
      ],
      "text/plain": [
       "        Company Name  Missions Count\n",
       "0          RVSN USSR            1777\n",
       "1        Arianespace             279\n",
       "2               CASC             251\n",
       "3   General Dynamics             251\n",
       "4               NASA             203\n",
       "5             VKS RF             201\n",
       "6       US Air Force             161\n",
       "7                ULA             140\n",
       "8             Boeing             136\n",
       "9    Martin Marietta             114\n",
       "10            SpaceX             100\n",
       "11               MHI              84\n",
       "12          Northrop              83\n",
       "13          Lockheed              79\n",
       "14              ISRO              76\n",
       "15         Roscosmos              55\n",
       "16               ILS              46\n",
       "17        Sea Launch              36\n",
       "18              ISAS              30\n",
       "19         Kosmotras              22\n",
       "20           US Navy              17\n",
       "21               ISA              13\n",
       "22        Rocket Lab              13\n",
       "23          Eurockot              13\n",
       "24               ESA              13\n",
       "25       Blue Origin              12\n",
       "26               IAI              11\n",
       "27            ExPace              10\n",
       "28               ASI               9\n",
       "29              CNES               8\n",
       "30              AMBA               8\n",
       "31              MITT               7\n",
       "32              JAXA               7\n",
       "33       Land Launch               7\n",
       "34                UT               5\n",
       "35              KCST               5\n",
       "36             CASIC               5\n",
       "37              Exos               4\n",
       "38            CECLES               4\n",
       "39   Arm??e de l'Air               4\n",
       "40              KARI               3\n",
       "41               SRC               3\n",
       "42               AEB               3\n",
       "43               RAE               2\n",
       "44           OKB-586               2\n",
       "45          Yuzhmash               2\n",
       "46         Landspace               1\n",
       "47           Douglas               1\n",
       "48               EER               1\n",
       "49           Starsem               1\n",
       "50      Virgin Orbit               1\n",
       "51              IRGC               1\n",
       "52           i-Space               1\n",
       "53          OneSpace               1\n",
       "54            Sandia               1\n",
       "55        Khrunichev               1"
      ]
     },
     "execution_count": 24,
     "metadata": {},
     "output_type": "execute_result"
    }
   ],
   "source": [
    "mission_count"
   ]
  }
 ],
 "metadata": {
  "kernelspec": {
   "display_name": "Python 3",
   "language": "python",
   "name": "python3"
  },
  "language_info": {
   "codemirror_mode": {
    "name": "ipython",
    "version": 3
   },
   "file_extension": ".py",
   "mimetype": "text/x-python",
   "name": "python",
   "nbconvert_exporter": "python",
   "pygments_lexer": "ipython3",
   "version": "3.10.12"
  },
  "papermill": {
   "default_parameters": {},
   "duration": 7.941301,
   "end_time": "2023-10-12T02:02:47.481143",
   "environment_variables": {},
   "exception": null,
   "input_path": "__notebook__.ipynb",
   "output_path": "__notebook__.ipynb",
   "parameters": {},
   "start_time": "2023-10-12T02:02:39.539842",
   "version": "2.4.0"
  }
 },
 "nbformat": 4,
 "nbformat_minor": 5
}
