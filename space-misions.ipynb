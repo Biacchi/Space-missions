{
 "cells": [
  {
   "cell_type": "markdown",
   "id": "9b6c61b3",
   "metadata": {
    "papermill": {
     "duration": 0.006458,
     "end_time": "2023-10-12T01:26:48.771429",
     "exception": false,
     "start_time": "2023-10-12T01:26:48.764971",
     "status": "completed"
    },
    "tags": []
   },
   "source": [
    "# Setup"
   ]
  },
  {
   "cell_type": "code",
   "execution_count": 1,
   "id": "d7365057",
   "metadata": {
    "execution": {
     "iopub.execute_input": "2023-10-12T01:26:48.784530Z",
     "iopub.status.busy": "2023-10-12T01:26:48.784185Z",
     "iopub.status.idle": "2023-10-12T01:26:51.424026Z",
     "shell.execute_reply": "2023-10-12T01:26:51.422892Z"
    },
    "papermill": {
     "duration": 2.649569,
     "end_time": "2023-10-12T01:26:51.426598",
     "exception": false,
     "start_time": "2023-10-12T01:26:48.777029",
     "status": "completed"
    },
    "tags": []
   },
   "outputs": [],
   "source": [
    "import numpy as np\n",
    "import pandas as pd\n",
    "import seaborn as sns\n",
    "import matplotlib.pyplot as plt"
   ]
  },
  {
   "cell_type": "markdown",
   "id": "b12bc481",
   "metadata": {
    "papermill": {
     "duration": 0.005179,
     "end_time": "2023-10-12T01:26:51.437466",
     "exception": false,
     "start_time": "2023-10-12T01:26:51.432287",
     "status": "completed"
    },
    "tags": []
   },
   "source": [
    "# Importing dataset"
   ]
  },
  {
   "cell_type": "code",
   "execution_count": 2,
   "id": "f26b8a32",
   "metadata": {
    "execution": {
     "iopub.execute_input": "2023-10-12T01:26:51.450552Z",
     "iopub.status.busy": "2023-10-12T01:26:51.449732Z",
     "iopub.status.idle": "2023-10-12T01:26:51.546073Z",
     "shell.execute_reply": "2023-10-12T01:26:51.544827Z"
    },
    "papermill": {
     "duration": 0.106453,
     "end_time": "2023-10-12T01:26:51.549379",
     "exception": false,
     "start_time": "2023-10-12T01:26:51.442926",
     "status": "completed"
    },
    "tags": []
   },
   "outputs": [
    {
     "data": {
      "text/html": [
       "<div>\n",
       "<style scoped>\n",
       "    .dataframe tbody tr th:only-of-type {\n",
       "        vertical-align: middle;\n",
       "    }\n",
       "\n",
       "    .dataframe tbody tr th {\n",
       "        vertical-align: top;\n",
       "    }\n",
       "\n",
       "    .dataframe thead th {\n",
       "        text-align: right;\n",
       "    }\n",
       "</style>\n",
       "<table border=\"1\" class=\"dataframe\">\n",
       "  <thead>\n",
       "    <tr style=\"text-align: right;\">\n",
       "      <th></th>\n",
       "      <th>Unnamed: 0.1</th>\n",
       "      <th>Unnamed: 0</th>\n",
       "      <th>Company Name</th>\n",
       "      <th>Location</th>\n",
       "      <th>Datum</th>\n",
       "      <th>Detail</th>\n",
       "      <th>Status Rocket</th>\n",
       "      <th>Rocket</th>\n",
       "      <th>Status Mission</th>\n",
       "    </tr>\n",
       "  </thead>\n",
       "  <tbody>\n",
       "    <tr>\n",
       "      <th>0</th>\n",
       "      <td>0</td>\n",
       "      <td>0</td>\n",
       "      <td>SpaceX</td>\n",
       "      <td>LC-39A, Kennedy Space Center, Florida, USA</td>\n",
       "      <td>Fri Aug 07, 2020 05:12 UTC</td>\n",
       "      <td>Falcon 9 Block 5 | Starlink V1 L9 &amp; BlackSky</td>\n",
       "      <td>StatusActive</td>\n",
       "      <td>50.0</td>\n",
       "      <td>Success</td>\n",
       "    </tr>\n",
       "    <tr>\n",
       "      <th>1</th>\n",
       "      <td>1</td>\n",
       "      <td>1</td>\n",
       "      <td>CASC</td>\n",
       "      <td>Site 9401 (SLS-2), Jiuquan Satellite Launch Ce...</td>\n",
       "      <td>Thu Aug 06, 2020 04:01 UTC</td>\n",
       "      <td>Long March 2D | Gaofen-9 04 &amp; Q-SAT</td>\n",
       "      <td>StatusActive</td>\n",
       "      <td>29.75</td>\n",
       "      <td>Success</td>\n",
       "    </tr>\n",
       "    <tr>\n",
       "      <th>2</th>\n",
       "      <td>2</td>\n",
       "      <td>2</td>\n",
       "      <td>SpaceX</td>\n",
       "      <td>Pad A, Boca Chica, Texas, USA</td>\n",
       "      <td>Tue Aug 04, 2020 23:57 UTC</td>\n",
       "      <td>Starship Prototype | 150 Meter Hop</td>\n",
       "      <td>StatusActive</td>\n",
       "      <td>NaN</td>\n",
       "      <td>Success</td>\n",
       "    </tr>\n",
       "    <tr>\n",
       "      <th>3</th>\n",
       "      <td>3</td>\n",
       "      <td>3</td>\n",
       "      <td>Roscosmos</td>\n",
       "      <td>Site 200/39, Baikonur Cosmodrome, Kazakhstan</td>\n",
       "      <td>Thu Jul 30, 2020 21:25 UTC</td>\n",
       "      <td>Proton-M/Briz-M | Ekspress-80 &amp; Ekspress-103</td>\n",
       "      <td>StatusActive</td>\n",
       "      <td>65.0</td>\n",
       "      <td>Success</td>\n",
       "    </tr>\n",
       "    <tr>\n",
       "      <th>4</th>\n",
       "      <td>4</td>\n",
       "      <td>4</td>\n",
       "      <td>ULA</td>\n",
       "      <td>SLC-41, Cape Canaveral AFS, Florida, USA</td>\n",
       "      <td>Thu Jul 30, 2020 11:50 UTC</td>\n",
       "      <td>Atlas V 541 | Perseverance</td>\n",
       "      <td>StatusActive</td>\n",
       "      <td>145.0</td>\n",
       "      <td>Success</td>\n",
       "    </tr>\n",
       "  </tbody>\n",
       "</table>\n",
       "</div>"
      ],
      "text/plain": [
       "   Unnamed: 0.1  Unnamed: 0 Company Name  \\\n",
       "0             0           0       SpaceX   \n",
       "1             1           1         CASC   \n",
       "2             2           2       SpaceX   \n",
       "3             3           3    Roscosmos   \n",
       "4             4           4          ULA   \n",
       "\n",
       "                                            Location  \\\n",
       "0         LC-39A, Kennedy Space Center, Florida, USA   \n",
       "1  Site 9401 (SLS-2), Jiuquan Satellite Launch Ce...   \n",
       "2                      Pad A, Boca Chica, Texas, USA   \n",
       "3       Site 200/39, Baikonur Cosmodrome, Kazakhstan   \n",
       "4           SLC-41, Cape Canaveral AFS, Florida, USA   \n",
       "\n",
       "                        Datum                                        Detail  \\\n",
       "0  Fri Aug 07, 2020 05:12 UTC  Falcon 9 Block 5 | Starlink V1 L9 & BlackSky   \n",
       "1  Thu Aug 06, 2020 04:01 UTC           Long March 2D | Gaofen-9 04 & Q-SAT   \n",
       "2  Tue Aug 04, 2020 23:57 UTC            Starship Prototype | 150 Meter Hop   \n",
       "3  Thu Jul 30, 2020 21:25 UTC  Proton-M/Briz-M | Ekspress-80 & Ekspress-103   \n",
       "4  Thu Jul 30, 2020 11:50 UTC                    Atlas V 541 | Perseverance   \n",
       "\n",
       "  Status Rocket  Rocket Status Mission  \n",
       "0  StatusActive   50.0         Success  \n",
       "1  StatusActive  29.75         Success  \n",
       "2  StatusActive     NaN        Success  \n",
       "3  StatusActive   65.0         Success  \n",
       "4  StatusActive  145.0         Success  "
      ]
     },
     "execution_count": 2,
     "metadata": {},
     "output_type": "execute_result"
    }
   ],
   "source": [
    "file_path = \"/kaggle/input/all-space-missions-from-1957/Space_Corrected.csv\"\n",
    "\n",
    "df = pd.read_csv(file_path)\n",
    "\n",
    "df.head()"
   ]
  },
  {
   "cell_type": "markdown",
   "id": "eae85d3a",
   "metadata": {
    "papermill": {
     "duration": 0.009755,
     "end_time": "2023-10-12T01:26:51.569373",
     "exception": false,
     "start_time": "2023-10-12T01:26:51.559618",
     "status": "completed"
    },
    "tags": []
   },
   "source": [
    "# Basic info"
   ]
  },
  {
   "cell_type": "code",
   "execution_count": 3,
   "id": "0900da82",
   "metadata": {
    "execution": {
     "iopub.execute_input": "2023-10-12T01:26:51.584209Z",
     "iopub.status.busy": "2023-10-12T01:26:51.583852Z",
     "iopub.status.idle": "2023-10-12T01:26:51.618391Z",
     "shell.execute_reply": "2023-10-12T01:26:51.617065Z"
    },
    "papermill": {
     "duration": 0.043956,
     "end_time": "2023-10-12T01:26:51.620774",
     "exception": false,
     "start_time": "2023-10-12T01:26:51.576818",
     "status": "completed"
    },
    "tags": []
   },
   "outputs": [
    {
     "name": "stdout",
     "output_type": "stream",
     "text": [
      "<class 'pandas.core.frame.DataFrame'>\n",
      "RangeIndex: 4324 entries, 0 to 4323\n",
      "Data columns (total 9 columns):\n",
      " #   Column          Non-Null Count  Dtype \n",
      "---  ------          --------------  ----- \n",
      " 0   Unnamed: 0.1    4324 non-null   int64 \n",
      " 1   Unnamed: 0      4324 non-null   int64 \n",
      " 2   Company Name    4324 non-null   object\n",
      " 3   Location        4324 non-null   object\n",
      " 4   Datum           4324 non-null   object\n",
      " 5   Detail          4324 non-null   object\n",
      " 6   Status Rocket   4324 non-null   object\n",
      " 7    Rocket         964 non-null    object\n",
      " 8   Status Mission  4324 non-null   object\n",
      "dtypes: int64(2), object(7)\n",
      "memory usage: 304.2+ KB\n"
     ]
    }
   ],
   "source": [
    "df.info()"
   ]
  },
  {
   "cell_type": "code",
   "execution_count": 4,
   "id": "68fe4a3b",
   "metadata": {
    "execution": {
     "iopub.execute_input": "2023-10-12T01:26:51.640865Z",
     "iopub.status.busy": "2023-10-12T01:26:51.640362Z",
     "iopub.status.idle": "2023-10-12T01:26:51.648291Z",
     "shell.execute_reply": "2023-10-12T01:26:51.647278Z"
    },
    "papermill": {
     "duration": 0.020393,
     "end_time": "2023-10-12T01:26:51.650314",
     "exception": false,
     "start_time": "2023-10-12T01:26:51.629921",
     "status": "completed"
    },
    "tags": []
   },
   "outputs": [
    {
     "data": {
      "text/plain": [
       "Index(['Unnamed: 0.1', 'Unnamed: 0', 'Company Name', 'Location', 'Datum',\n",
       "       'Detail', 'Status Rocket', ' Rocket', 'Status Mission'],\n",
       "      dtype='object')"
      ]
     },
     "execution_count": 4,
     "metadata": {},
     "output_type": "execute_result"
    }
   ],
   "source": [
    "df.columns"
   ]
  },
  {
   "cell_type": "markdown",
   "id": "cadb5a39",
   "metadata": {
    "papermill": {
     "duration": 0.006053,
     "end_time": "2023-10-12T01:26:51.662279",
     "exception": false,
     "start_time": "2023-10-12T01:26:51.656226",
     "status": "completed"
    },
    "tags": []
   },
   "source": [
    "With the output above, we can see that the \"Rocket\" column has a whitespace before the title. Additionaly, we can see that the first two column are just artifacts and have no real purpose to the dataset. They will be removed in the data cleaning step. "
   ]
  },
  {
   "cell_type": "code",
   "execution_count": 5,
   "id": "f3210f3e",
   "metadata": {
    "execution": {
     "iopub.execute_input": "2023-10-12T01:26:51.675944Z",
     "iopub.status.busy": "2023-10-12T01:26:51.675483Z",
     "iopub.status.idle": "2023-10-12T01:26:51.693583Z",
     "shell.execute_reply": "2023-10-12T01:26:51.692472Z"
    },
    "papermill": {
     "duration": 0.02753,
     "end_time": "2023-10-12T01:26:51.695661",
     "exception": false,
     "start_time": "2023-10-12T01:26:51.668131",
     "status": "completed"
    },
    "tags": []
   },
   "outputs": [
    {
     "data": {
      "text/html": [
       "<div>\n",
       "<style scoped>\n",
       "    .dataframe tbody tr th:only-of-type {\n",
       "        vertical-align: middle;\n",
       "    }\n",
       "\n",
       "    .dataframe tbody tr th {\n",
       "        vertical-align: top;\n",
       "    }\n",
       "\n",
       "    .dataframe thead th {\n",
       "        text-align: right;\n",
       "    }\n",
       "</style>\n",
       "<table border=\"1\" class=\"dataframe\">\n",
       "  <thead>\n",
       "    <tr style=\"text-align: right;\">\n",
       "      <th></th>\n",
       "      <th>Unnamed: 0.1</th>\n",
       "      <th>Unnamed: 0</th>\n",
       "    </tr>\n",
       "  </thead>\n",
       "  <tbody>\n",
       "    <tr>\n",
       "      <th>count</th>\n",
       "      <td>4324.000000</td>\n",
       "      <td>4324.000000</td>\n",
       "    </tr>\n",
       "    <tr>\n",
       "      <th>mean</th>\n",
       "      <td>2161.500000</td>\n",
       "      <td>2161.500000</td>\n",
       "    </tr>\n",
       "    <tr>\n",
       "      <th>std</th>\n",
       "      <td>1248.375611</td>\n",
       "      <td>1248.375611</td>\n",
       "    </tr>\n",
       "    <tr>\n",
       "      <th>min</th>\n",
       "      <td>0.000000</td>\n",
       "      <td>0.000000</td>\n",
       "    </tr>\n",
       "    <tr>\n",
       "      <th>25%</th>\n",
       "      <td>1080.750000</td>\n",
       "      <td>1080.750000</td>\n",
       "    </tr>\n",
       "    <tr>\n",
       "      <th>50%</th>\n",
       "      <td>2161.500000</td>\n",
       "      <td>2161.500000</td>\n",
       "    </tr>\n",
       "    <tr>\n",
       "      <th>75%</th>\n",
       "      <td>3242.250000</td>\n",
       "      <td>3242.250000</td>\n",
       "    </tr>\n",
       "    <tr>\n",
       "      <th>max</th>\n",
       "      <td>4323.000000</td>\n",
       "      <td>4323.000000</td>\n",
       "    </tr>\n",
       "  </tbody>\n",
       "</table>\n",
       "</div>"
      ],
      "text/plain": [
       "       Unnamed: 0.1   Unnamed: 0\n",
       "count   4324.000000  4324.000000\n",
       "mean    2161.500000  2161.500000\n",
       "std     1248.375611  1248.375611\n",
       "min        0.000000     0.000000\n",
       "25%     1080.750000  1080.750000\n",
       "50%     2161.500000  2161.500000\n",
       "75%     3242.250000  3242.250000\n",
       "max     4323.000000  4323.000000"
      ]
     },
     "execution_count": 5,
     "metadata": {},
     "output_type": "execute_result"
    }
   ],
   "source": [
    "df.describe()"
   ]
  },
  {
   "cell_type": "code",
   "execution_count": 6,
   "id": "af68efc5",
   "metadata": {
    "execution": {
     "iopub.execute_input": "2023-10-12T01:26:51.711276Z",
     "iopub.status.busy": "2023-10-12T01:26:51.710360Z",
     "iopub.status.idle": "2023-10-12T01:26:51.722205Z",
     "shell.execute_reply": "2023-10-12T01:26:51.720476Z"
    },
    "papermill": {
     "duration": 0.0223,
     "end_time": "2023-10-12T01:26:51.724400",
     "exception": false,
     "start_time": "2023-10-12T01:26:51.702100",
     "status": "completed"
    },
    "tags": []
   },
   "outputs": [
    {
     "data": {
      "text/plain": [
       "Unnamed: 0.1         0\n",
       "Unnamed: 0           0\n",
       "Company Name         0\n",
       "Location             0\n",
       "Datum                0\n",
       "Detail               0\n",
       "Status Rocket        0\n",
       " Rocket           3360\n",
       "Status Mission       0\n",
       "dtype: int64"
      ]
     },
     "execution_count": 6,
     "metadata": {},
     "output_type": "execute_result"
    }
   ],
   "source": [
    "# Checking for null columns\n",
    "df.isnull().sum()"
   ]
  },
  {
   "cell_type": "markdown",
   "id": "60679688",
   "metadata": {
    "papermill": {
     "duration": 0.006441,
     "end_time": "2023-10-12T01:26:51.740302",
     "exception": false,
     "start_time": "2023-10-12T01:26:51.733861",
     "status": "completed"
    },
    "tags": []
   },
   "source": [
    "Unfortunately, we don't have the names for all rockets. "
   ]
  },
  {
   "cell_type": "code",
   "execution_count": 7,
   "id": "53305fe2",
   "metadata": {
    "execution": {
     "iopub.execute_input": "2023-10-12T01:26:51.761868Z",
     "iopub.status.busy": "2023-10-12T01:26:51.761169Z",
     "iopub.status.idle": "2023-10-12T01:26:51.775485Z",
     "shell.execute_reply": "2023-10-12T01:26:51.774770Z"
    },
    "papermill": {
     "duration": 0.031138,
     "end_time": "2023-10-12T01:26:51.777963",
     "exception": false,
     "start_time": "2023-10-12T01:26:51.746825",
     "status": "completed"
    },
    "tags": []
   },
   "outputs": [
    {
     "data": {
      "text/plain": [
       "0"
      ]
     },
     "execution_count": 7,
     "metadata": {},
     "output_type": "execute_result"
    }
   ],
   "source": [
    "# Checking for duplicates\n",
    "df.duplicated().sum()"
   ]
  },
  {
   "cell_type": "markdown",
   "id": "6bcb31e8",
   "metadata": {
    "papermill": {
     "duration": 0.005885,
     "end_time": "2023-10-12T01:26:51.795387",
     "exception": false,
     "start_time": "2023-10-12T01:26:51.789502",
     "status": "completed"
    },
    "tags": []
   },
   "source": [
    "## To do "
   ]
  },
  {
   "cell_type": "markdown",
   "id": "585da5e3",
   "metadata": {
    "papermill": {
     "duration": 0.005717,
     "end_time": "2023-10-12T01:26:51.807116",
     "exception": false,
     "start_time": "2023-10-12T01:26:51.801399",
     "status": "completed"
    },
    "tags": []
   },
   "source": [
    "After this initial explorations, we can see that we have the following tasks to make the data cleaner:\n",
    "* Strip whitespace from column names\n",
    "* Remove the first two columns (unnamed)\n",
    "* Remove the duplicate row\n",
    "* Change the names of a few columns to more relevant ones\n",
    "* Change the columns data types, as they are all the 'object' type"
   ]
  },
  {
   "cell_type": "markdown",
   "id": "63b91217",
   "metadata": {
    "papermill": {
     "duration": 0.005791,
     "end_time": "2023-10-12T01:26:51.819008",
     "exception": false,
     "start_time": "2023-10-12T01:26:51.813217",
     "status": "completed"
    },
    "tags": []
   },
   "source": [
    "As per the output above, there is one duplicated row in the dataset. This will be removed in the cleaning process. "
   ]
  },
  {
   "cell_type": "markdown",
   "id": "fe1e76c1",
   "metadata": {
    "papermill": {
     "duration": 0.005676,
     "end_time": "2023-10-12T01:26:51.830661",
     "exception": false,
     "start_time": "2023-10-12T01:26:51.824985",
     "status": "completed"
    },
    "tags": []
   },
   "source": [
    "# Cleaning"
   ]
  },
  {
   "cell_type": "code",
   "execution_count": 8,
   "id": "d7f0adb3",
   "metadata": {
    "execution": {
     "iopub.execute_input": "2023-10-12T01:26:51.844845Z",
     "iopub.status.busy": "2023-10-12T01:26:51.844237Z",
     "iopub.status.idle": "2023-10-12T01:26:51.849582Z",
     "shell.execute_reply": "2023-10-12T01:26:51.848870Z"
    },
    "papermill": {
     "duration": 0.014882,
     "end_time": "2023-10-12T01:26:51.851592",
     "exception": false,
     "start_time": "2023-10-12T01:26:51.836710",
     "status": "completed"
    },
    "tags": []
   },
   "outputs": [],
   "source": [
    "# Remove whitespace from column names\n",
    "df = df.rename(columns=lambda x: x.strip())"
   ]
  },
  {
   "cell_type": "code",
   "execution_count": 9,
   "id": "a44c1517",
   "metadata": {
    "execution": {
     "iopub.execute_input": "2023-10-12T01:26:51.865693Z",
     "iopub.status.busy": "2023-10-12T01:26:51.865112Z",
     "iopub.status.idle": "2023-10-12T01:26:51.880426Z",
     "shell.execute_reply": "2023-10-12T01:26:51.879330Z"
    },
    "papermill": {
     "duration": 0.025293,
     "end_time": "2023-10-12T01:26:51.882898",
     "exception": false,
     "start_time": "2023-10-12T01:26:51.857605",
     "status": "completed"
    },
    "tags": []
   },
   "outputs": [
    {
     "data": {
      "text/html": [
       "<div>\n",
       "<style scoped>\n",
       "    .dataframe tbody tr th:only-of-type {\n",
       "        vertical-align: middle;\n",
       "    }\n",
       "\n",
       "    .dataframe tbody tr th {\n",
       "        vertical-align: top;\n",
       "    }\n",
       "\n",
       "    .dataframe thead th {\n",
       "        text-align: right;\n",
       "    }\n",
       "</style>\n",
       "<table border=\"1\" class=\"dataframe\">\n",
       "  <thead>\n",
       "    <tr style=\"text-align: right;\">\n",
       "      <th></th>\n",
       "      <th>Company Name</th>\n",
       "      <th>Location</th>\n",
       "      <th>Datum</th>\n",
       "      <th>Detail</th>\n",
       "      <th>Status Rocket</th>\n",
       "      <th>Rocket</th>\n",
       "      <th>Status Mission</th>\n",
       "    </tr>\n",
       "  </thead>\n",
       "  <tbody>\n",
       "    <tr>\n",
       "      <th>0</th>\n",
       "      <td>SpaceX</td>\n",
       "      <td>LC-39A, Kennedy Space Center, Florida, USA</td>\n",
       "      <td>Fri Aug 07, 2020 05:12 UTC</td>\n",
       "      <td>Falcon 9 Block 5 | Starlink V1 L9 &amp; BlackSky</td>\n",
       "      <td>StatusActive</td>\n",
       "      <td>50.0</td>\n",
       "      <td>Success</td>\n",
       "    </tr>\n",
       "    <tr>\n",
       "      <th>1</th>\n",
       "      <td>CASC</td>\n",
       "      <td>Site 9401 (SLS-2), Jiuquan Satellite Launch Ce...</td>\n",
       "      <td>Thu Aug 06, 2020 04:01 UTC</td>\n",
       "      <td>Long March 2D | Gaofen-9 04 &amp; Q-SAT</td>\n",
       "      <td>StatusActive</td>\n",
       "      <td>29.75</td>\n",
       "      <td>Success</td>\n",
       "    </tr>\n",
       "    <tr>\n",
       "      <th>2</th>\n",
       "      <td>SpaceX</td>\n",
       "      <td>Pad A, Boca Chica, Texas, USA</td>\n",
       "      <td>Tue Aug 04, 2020 23:57 UTC</td>\n",
       "      <td>Starship Prototype | 150 Meter Hop</td>\n",
       "      <td>StatusActive</td>\n",
       "      <td>NaN</td>\n",
       "      <td>Success</td>\n",
       "    </tr>\n",
       "    <tr>\n",
       "      <th>3</th>\n",
       "      <td>Roscosmos</td>\n",
       "      <td>Site 200/39, Baikonur Cosmodrome, Kazakhstan</td>\n",
       "      <td>Thu Jul 30, 2020 21:25 UTC</td>\n",
       "      <td>Proton-M/Briz-M | Ekspress-80 &amp; Ekspress-103</td>\n",
       "      <td>StatusActive</td>\n",
       "      <td>65.0</td>\n",
       "      <td>Success</td>\n",
       "    </tr>\n",
       "    <tr>\n",
       "      <th>4</th>\n",
       "      <td>ULA</td>\n",
       "      <td>SLC-41, Cape Canaveral AFS, Florida, USA</td>\n",
       "      <td>Thu Jul 30, 2020 11:50 UTC</td>\n",
       "      <td>Atlas V 541 | Perseverance</td>\n",
       "      <td>StatusActive</td>\n",
       "      <td>145.0</td>\n",
       "      <td>Success</td>\n",
       "    </tr>\n",
       "  </tbody>\n",
       "</table>\n",
       "</div>"
      ],
      "text/plain": [
       "  Company Name                                           Location  \\\n",
       "0       SpaceX         LC-39A, Kennedy Space Center, Florida, USA   \n",
       "1         CASC  Site 9401 (SLS-2), Jiuquan Satellite Launch Ce...   \n",
       "2       SpaceX                      Pad A, Boca Chica, Texas, USA   \n",
       "3    Roscosmos       Site 200/39, Baikonur Cosmodrome, Kazakhstan   \n",
       "4          ULA           SLC-41, Cape Canaveral AFS, Florida, USA   \n",
       "\n",
       "                        Datum                                        Detail  \\\n",
       "0  Fri Aug 07, 2020 05:12 UTC  Falcon 9 Block 5 | Starlink V1 L9 & BlackSky   \n",
       "1  Thu Aug 06, 2020 04:01 UTC           Long March 2D | Gaofen-9 04 & Q-SAT   \n",
       "2  Tue Aug 04, 2020 23:57 UTC            Starship Prototype | 150 Meter Hop   \n",
       "3  Thu Jul 30, 2020 21:25 UTC  Proton-M/Briz-M | Ekspress-80 & Ekspress-103   \n",
       "4  Thu Jul 30, 2020 11:50 UTC                    Atlas V 541 | Perseverance   \n",
       "\n",
       "  Status Rocket  Rocket Status Mission  \n",
       "0  StatusActive   50.0         Success  \n",
       "1  StatusActive  29.75         Success  \n",
       "2  StatusActive     NaN        Success  \n",
       "3  StatusActive   65.0         Success  \n",
       "4  StatusActive  145.0         Success  "
      ]
     },
     "execution_count": 9,
     "metadata": {},
     "output_type": "execute_result"
    }
   ],
   "source": [
    "# Remove the first two columns (unnamed)\n",
    "df.drop(columns=['Unnamed: 0.1', 'Unnamed: 0'], inplace=True)\n",
    "\n",
    "df.head()"
   ]
  },
  {
   "cell_type": "code",
   "execution_count": 10,
   "id": "c4caf97d",
   "metadata": {
    "execution": {
     "iopub.execute_input": "2023-10-12T01:26:51.898023Z",
     "iopub.status.busy": "2023-10-12T01:26:51.896961Z",
     "iopub.status.idle": "2023-10-12T01:26:51.915918Z",
     "shell.execute_reply": "2023-10-12T01:26:51.914825Z"
    },
    "papermill": {
     "duration": 0.028638,
     "end_time": "2023-10-12T01:26:51.918019",
     "exception": false,
     "start_time": "2023-10-12T01:26:51.889381",
     "status": "completed"
    },
    "tags": []
   },
   "outputs": [
    {
     "data": {
      "text/html": [
       "<div>\n",
       "<style scoped>\n",
       "    .dataframe tbody tr th:only-of-type {\n",
       "        vertical-align: middle;\n",
       "    }\n",
       "\n",
       "    .dataframe tbody tr th {\n",
       "        vertical-align: top;\n",
       "    }\n",
       "\n",
       "    .dataframe thead th {\n",
       "        text-align: right;\n",
       "    }\n",
       "</style>\n",
       "<table border=\"1\" class=\"dataframe\">\n",
       "  <thead>\n",
       "    <tr style=\"text-align: right;\">\n",
       "      <th></th>\n",
       "      <th>Company Name</th>\n",
       "      <th>Location</th>\n",
       "      <th>Datum</th>\n",
       "      <th>Detail</th>\n",
       "      <th>Status Rocket</th>\n",
       "      <th>Rocket</th>\n",
       "      <th>Status Mission</th>\n",
       "    </tr>\n",
       "  </thead>\n",
       "  <tbody>\n",
       "    <tr>\n",
       "      <th>0</th>\n",
       "      <td>SpaceX</td>\n",
       "      <td>LC-39A, Kennedy Space Center, Florida, USA</td>\n",
       "      <td>Fri Aug 07, 2020 05:12 UTC</td>\n",
       "      <td>Falcon 9 Block 5 | Starlink V1 L9 &amp; BlackSky</td>\n",
       "      <td>StatusActive</td>\n",
       "      <td>50.0</td>\n",
       "      <td>Success</td>\n",
       "    </tr>\n",
       "    <tr>\n",
       "      <th>1</th>\n",
       "      <td>CASC</td>\n",
       "      <td>Site 9401 (SLS-2), Jiuquan Satellite Launch Ce...</td>\n",
       "      <td>Thu Aug 06, 2020 04:01 UTC</td>\n",
       "      <td>Long March 2D | Gaofen-9 04 &amp; Q-SAT</td>\n",
       "      <td>StatusActive</td>\n",
       "      <td>29.75</td>\n",
       "      <td>Success</td>\n",
       "    </tr>\n",
       "    <tr>\n",
       "      <th>2</th>\n",
       "      <td>SpaceX</td>\n",
       "      <td>Pad A, Boca Chica, Texas, USA</td>\n",
       "      <td>Tue Aug 04, 2020 23:57 UTC</td>\n",
       "      <td>Starship Prototype | 150 Meter Hop</td>\n",
       "      <td>StatusActive</td>\n",
       "      <td>NaN</td>\n",
       "      <td>Success</td>\n",
       "    </tr>\n",
       "    <tr>\n",
       "      <th>3</th>\n",
       "      <td>Roscosmos</td>\n",
       "      <td>Site 200/39, Baikonur Cosmodrome, Kazakhstan</td>\n",
       "      <td>Thu Jul 30, 2020 21:25 UTC</td>\n",
       "      <td>Proton-M/Briz-M | Ekspress-80 &amp; Ekspress-103</td>\n",
       "      <td>StatusActive</td>\n",
       "      <td>65.0</td>\n",
       "      <td>Success</td>\n",
       "    </tr>\n",
       "    <tr>\n",
       "      <th>4</th>\n",
       "      <td>ULA</td>\n",
       "      <td>SLC-41, Cape Canaveral AFS, Florida, USA</td>\n",
       "      <td>Thu Jul 30, 2020 11:50 UTC</td>\n",
       "      <td>Atlas V 541 | Perseverance</td>\n",
       "      <td>StatusActive</td>\n",
       "      <td>145.0</td>\n",
       "      <td>Success</td>\n",
       "    </tr>\n",
       "    <tr>\n",
       "      <th>...</th>\n",
       "      <td>...</td>\n",
       "      <td>...</td>\n",
       "      <td>...</td>\n",
       "      <td>...</td>\n",
       "      <td>...</td>\n",
       "      <td>...</td>\n",
       "      <td>...</td>\n",
       "    </tr>\n",
       "    <tr>\n",
       "      <th>4319</th>\n",
       "      <td>US Navy</td>\n",
       "      <td>LC-18A, Cape Canaveral AFS, Florida, USA</td>\n",
       "      <td>Wed Feb 05, 1958 07:33 UTC</td>\n",
       "      <td>Vanguard | Vanguard TV3BU</td>\n",
       "      <td>StatusRetired</td>\n",
       "      <td>NaN</td>\n",
       "      <td>Failure</td>\n",
       "    </tr>\n",
       "    <tr>\n",
       "      <th>4320</th>\n",
       "      <td>AMBA</td>\n",
       "      <td>LC-26A, Cape Canaveral AFS, Florida, USA</td>\n",
       "      <td>Sat Feb 01, 1958 03:48 UTC</td>\n",
       "      <td>Juno I | Explorer 1</td>\n",
       "      <td>StatusRetired</td>\n",
       "      <td>NaN</td>\n",
       "      <td>Success</td>\n",
       "    </tr>\n",
       "    <tr>\n",
       "      <th>4321</th>\n",
       "      <td>US Navy</td>\n",
       "      <td>LC-18A, Cape Canaveral AFS, Florida, USA</td>\n",
       "      <td>Fri Dec 06, 1957 16:44 UTC</td>\n",
       "      <td>Vanguard | Vanguard TV3</td>\n",
       "      <td>StatusRetired</td>\n",
       "      <td>NaN</td>\n",
       "      <td>Failure</td>\n",
       "    </tr>\n",
       "    <tr>\n",
       "      <th>4322</th>\n",
       "      <td>RVSN USSR</td>\n",
       "      <td>Site 1/5, Baikonur Cosmodrome, Kazakhstan</td>\n",
       "      <td>Sun Nov 03, 1957 02:30 UTC</td>\n",
       "      <td>Sputnik 8K71PS | Sputnik-2</td>\n",
       "      <td>StatusRetired</td>\n",
       "      <td>NaN</td>\n",
       "      <td>Success</td>\n",
       "    </tr>\n",
       "    <tr>\n",
       "      <th>4323</th>\n",
       "      <td>RVSN USSR</td>\n",
       "      <td>Site 1/5, Baikonur Cosmodrome, Kazakhstan</td>\n",
       "      <td>Fri Oct 04, 1957 19:28 UTC</td>\n",
       "      <td>Sputnik 8K71PS | Sputnik-1</td>\n",
       "      <td>StatusRetired</td>\n",
       "      <td>NaN</td>\n",
       "      <td>Success</td>\n",
       "    </tr>\n",
       "  </tbody>\n",
       "</table>\n",
       "<p>4323 rows × 7 columns</p>\n",
       "</div>"
      ],
      "text/plain": [
       "     Company Name                                           Location  \\\n",
       "0          SpaceX         LC-39A, Kennedy Space Center, Florida, USA   \n",
       "1            CASC  Site 9401 (SLS-2), Jiuquan Satellite Launch Ce...   \n",
       "2          SpaceX                      Pad A, Boca Chica, Texas, USA   \n",
       "3       Roscosmos       Site 200/39, Baikonur Cosmodrome, Kazakhstan   \n",
       "4             ULA           SLC-41, Cape Canaveral AFS, Florida, USA   \n",
       "...           ...                                                ...   \n",
       "4319      US Navy           LC-18A, Cape Canaveral AFS, Florida, USA   \n",
       "4320         AMBA           LC-26A, Cape Canaveral AFS, Florida, USA   \n",
       "4321      US Navy           LC-18A, Cape Canaveral AFS, Florida, USA   \n",
       "4322    RVSN USSR          Site 1/5, Baikonur Cosmodrome, Kazakhstan   \n",
       "4323    RVSN USSR          Site 1/5, Baikonur Cosmodrome, Kazakhstan   \n",
       "\n",
       "                           Datum  \\\n",
       "0     Fri Aug 07, 2020 05:12 UTC   \n",
       "1     Thu Aug 06, 2020 04:01 UTC   \n",
       "2     Tue Aug 04, 2020 23:57 UTC   \n",
       "3     Thu Jul 30, 2020 21:25 UTC   \n",
       "4     Thu Jul 30, 2020 11:50 UTC   \n",
       "...                          ...   \n",
       "4319  Wed Feb 05, 1958 07:33 UTC   \n",
       "4320  Sat Feb 01, 1958 03:48 UTC   \n",
       "4321  Fri Dec 06, 1957 16:44 UTC   \n",
       "4322  Sun Nov 03, 1957 02:30 UTC   \n",
       "4323  Fri Oct 04, 1957 19:28 UTC   \n",
       "\n",
       "                                            Detail  Status Rocket  Rocket  \\\n",
       "0     Falcon 9 Block 5 | Starlink V1 L9 & BlackSky   StatusActive   50.0    \n",
       "1              Long March 2D | Gaofen-9 04 & Q-SAT   StatusActive  29.75    \n",
       "2               Starship Prototype | 150 Meter Hop   StatusActive     NaN   \n",
       "3     Proton-M/Briz-M | Ekspress-80 & Ekspress-103   StatusActive   65.0    \n",
       "4                       Atlas V 541 | Perseverance   StatusActive  145.0    \n",
       "...                                            ...            ...     ...   \n",
       "4319                     Vanguard | Vanguard TV3BU  StatusRetired     NaN   \n",
       "4320                           Juno I | Explorer 1  StatusRetired     NaN   \n",
       "4321                       Vanguard | Vanguard TV3  StatusRetired     NaN   \n",
       "4322                    Sputnik 8K71PS | Sputnik-2  StatusRetired     NaN   \n",
       "4323                    Sputnik 8K71PS | Sputnik-1  StatusRetired     NaN   \n",
       "\n",
       "     Status Mission  \n",
       "0           Success  \n",
       "1           Success  \n",
       "2           Success  \n",
       "3           Success  \n",
       "4           Success  \n",
       "...             ...  \n",
       "4319        Failure  \n",
       "4320        Success  \n",
       "4321        Failure  \n",
       "4322        Success  \n",
       "4323        Success  \n",
       "\n",
       "[4323 rows x 7 columns]"
      ]
     },
     "execution_count": 10,
     "metadata": {},
     "output_type": "execute_result"
    }
   ],
   "source": [
    "# Remove the duplicate row\n",
    "df.drop_duplicates()"
   ]
  },
  {
   "cell_type": "code",
   "execution_count": 11,
   "id": "891d3fbd",
   "metadata": {
    "execution": {
     "iopub.execute_input": "2023-10-12T01:26:51.933767Z",
     "iopub.status.busy": "2023-10-12T01:26:51.933395Z",
     "iopub.status.idle": "2023-10-12T01:26:51.939429Z",
     "shell.execute_reply": "2023-10-12T01:26:51.938716Z"
    },
    "papermill": {
     "duration": 0.016543,
     "end_time": "2023-10-12T01:26:51.941353",
     "exception": false,
     "start_time": "2023-10-12T01:26:51.924810",
     "status": "completed"
    },
    "tags": []
   },
   "outputs": [],
   "source": [
    "# Changing the data type of the \"Rocket\" column to numeric\n",
    "df['Rocket'] = pd.to_numeric(df['Rocket'], errors='coerce')"
   ]
  },
  {
   "cell_type": "code",
   "execution_count": 12,
   "id": "36087a6a",
   "metadata": {
    "execution": {
     "iopub.execute_input": "2023-10-12T01:26:51.957311Z",
     "iopub.status.busy": "2023-10-12T01:26:51.956327Z",
     "iopub.status.idle": "2023-10-12T01:26:51.973251Z",
     "shell.execute_reply": "2023-10-12T01:26:51.972217Z"
    },
    "papermill": {
     "duration": 0.02711,
     "end_time": "2023-10-12T01:26:51.975278",
     "exception": false,
     "start_time": "2023-10-12T01:26:51.948168",
     "status": "completed"
    },
    "tags": []
   },
   "outputs": [
    {
     "data": {
      "text/html": [
       "<div>\n",
       "<style scoped>\n",
       "    .dataframe tbody tr th:only-of-type {\n",
       "        vertical-align: middle;\n",
       "    }\n",
       "\n",
       "    .dataframe tbody tr th {\n",
       "        vertical-align: top;\n",
       "    }\n",
       "\n",
       "    .dataframe thead th {\n",
       "        text-align: right;\n",
       "    }\n",
       "</style>\n",
       "<table border=\"1\" class=\"dataframe\">\n",
       "  <thead>\n",
       "    <tr style=\"text-align: right;\">\n",
       "      <th></th>\n",
       "      <th>Company Name</th>\n",
       "      <th>Location</th>\n",
       "      <th>Datum</th>\n",
       "      <th>Detail</th>\n",
       "      <th>Status Rocket</th>\n",
       "      <th>Rocket</th>\n",
       "      <th>Status Mission</th>\n",
       "    </tr>\n",
       "  </thead>\n",
       "  <tbody>\n",
       "    <tr>\n",
       "      <th>0</th>\n",
       "      <td>SpaceX</td>\n",
       "      <td>LC-39A, Kennedy Space Center, Florida, USA</td>\n",
       "      <td>Fri Aug 07, 2020 05:12 UTC</td>\n",
       "      <td>Falcon 9 Block 5 | Starlink V1 L9 &amp; BlackSky</td>\n",
       "      <td>StatusActive</td>\n",
       "      <td>50.00</td>\n",
       "      <td>Success</td>\n",
       "    </tr>\n",
       "    <tr>\n",
       "      <th>1</th>\n",
       "      <td>CASC</td>\n",
       "      <td>Site 9401 (SLS-2), Jiuquan Satellite Launch Ce...</td>\n",
       "      <td>Thu Aug 06, 2020 04:01 UTC</td>\n",
       "      <td>Long March 2D | Gaofen-9 04 &amp; Q-SAT</td>\n",
       "      <td>StatusActive</td>\n",
       "      <td>29.75</td>\n",
       "      <td>Success</td>\n",
       "    </tr>\n",
       "    <tr>\n",
       "      <th>2</th>\n",
       "      <td>SpaceX</td>\n",
       "      <td>Pad A, Boca Chica, Texas, USA</td>\n",
       "      <td>Tue Aug 04, 2020 23:57 UTC</td>\n",
       "      <td>Starship Prototype | 150 Meter Hop</td>\n",
       "      <td>StatusActive</td>\n",
       "      <td>NaN</td>\n",
       "      <td>Success</td>\n",
       "    </tr>\n",
       "    <tr>\n",
       "      <th>3</th>\n",
       "      <td>Roscosmos</td>\n",
       "      <td>Site 200/39, Baikonur Cosmodrome, Kazakhstan</td>\n",
       "      <td>Thu Jul 30, 2020 21:25 UTC</td>\n",
       "      <td>Proton-M/Briz-M | Ekspress-80 &amp; Ekspress-103</td>\n",
       "      <td>StatusActive</td>\n",
       "      <td>65.00</td>\n",
       "      <td>Success</td>\n",
       "    </tr>\n",
       "    <tr>\n",
       "      <th>4</th>\n",
       "      <td>ULA</td>\n",
       "      <td>SLC-41, Cape Canaveral AFS, Florida, USA</td>\n",
       "      <td>Thu Jul 30, 2020 11:50 UTC</td>\n",
       "      <td>Atlas V 541 | Perseverance</td>\n",
       "      <td>StatusActive</td>\n",
       "      <td>145.00</td>\n",
       "      <td>Success</td>\n",
       "    </tr>\n",
       "  </tbody>\n",
       "</table>\n",
       "</div>"
      ],
      "text/plain": [
       "  Company Name                                           Location  \\\n",
       "0       SpaceX         LC-39A, Kennedy Space Center, Florida, USA   \n",
       "1         CASC  Site 9401 (SLS-2), Jiuquan Satellite Launch Ce...   \n",
       "2       SpaceX                      Pad A, Boca Chica, Texas, USA   \n",
       "3    Roscosmos       Site 200/39, Baikonur Cosmodrome, Kazakhstan   \n",
       "4          ULA           SLC-41, Cape Canaveral AFS, Florida, USA   \n",
       "\n",
       "                        Datum                                        Detail  \\\n",
       "0  Fri Aug 07, 2020 05:12 UTC  Falcon 9 Block 5 | Starlink V1 L9 & BlackSky   \n",
       "1  Thu Aug 06, 2020 04:01 UTC           Long March 2D | Gaofen-9 04 & Q-SAT   \n",
       "2  Tue Aug 04, 2020 23:57 UTC            Starship Prototype | 150 Meter Hop   \n",
       "3  Thu Jul 30, 2020 21:25 UTC  Proton-M/Briz-M | Ekspress-80 & Ekspress-103   \n",
       "4  Thu Jul 30, 2020 11:50 UTC                    Atlas V 541 | Perseverance   \n",
       "\n",
       "  Status Rocket  Rocket Status Mission  \n",
       "0  StatusActive   50.00        Success  \n",
       "1  StatusActive   29.75        Success  \n",
       "2  StatusActive     NaN        Success  \n",
       "3  StatusActive   65.00        Success  \n",
       "4  StatusActive  145.00        Success  "
      ]
     },
     "execution_count": 12,
     "metadata": {},
     "output_type": "execute_result"
    }
   ],
   "source": [
    "df.head()"
   ]
  },
  {
   "cell_type": "code",
   "execution_count": 13,
   "id": "673c08ad",
   "metadata": {
    "execution": {
     "iopub.execute_input": "2023-10-12T01:26:51.991564Z",
     "iopub.status.busy": "2023-10-12T01:26:51.991114Z",
     "iopub.status.idle": "2023-10-12T01:26:52.035341Z",
     "shell.execute_reply": "2023-10-12T01:26:52.033895Z"
    },
    "papermill": {
     "duration": 0.055174,
     "end_time": "2023-10-12T01:26:52.037881",
     "exception": false,
     "start_time": "2023-10-12T01:26:51.982707",
     "status": "completed"
    },
    "tags": []
   },
   "outputs": [],
   "source": [
    "# Extracting the date from the Datum column\n",
    "df['Date'] = df['Datum'].str.extract(r'(\\w{3} \\w{3} \\d{2}, \\d{4})')\n",
    "\n",
    "df.Date = pd.to_datetime(df.Date)"
   ]
  },
  {
   "cell_type": "code",
   "execution_count": 14,
   "id": "4408c6e8",
   "metadata": {
    "execution": {
     "iopub.execute_input": "2023-10-12T01:26:52.054011Z",
     "iopub.status.busy": "2023-10-12T01:26:52.053057Z",
     "iopub.status.idle": "2023-10-12T01:26:52.067586Z",
     "shell.execute_reply": "2023-10-12T01:26:52.066422Z"
    },
    "papermill": {
     "duration": 0.025437,
     "end_time": "2023-10-12T01:26:52.070319",
     "exception": false,
     "start_time": "2023-10-12T01:26:52.044882",
     "status": "completed"
    },
    "tags": []
   },
   "outputs": [],
   "source": [
    "# Extracting the time from the Datum column\n",
    "df['Time'] = df['Datum'].str.extract(r'(\\d+:\\d+)')"
   ]
  },
  {
   "cell_type": "code",
   "execution_count": 15,
   "id": "e3ce1366",
   "metadata": {
    "execution": {
     "iopub.execute_input": "2023-10-12T01:26:52.092410Z",
     "iopub.status.busy": "2023-10-12T01:26:52.091720Z",
     "iopub.status.idle": "2023-10-12T01:26:52.104575Z",
     "shell.execute_reply": "2023-10-12T01:26:52.103331Z"
    },
    "papermill": {
     "duration": 0.024076,
     "end_time": "2023-10-12T01:26:52.107189",
     "exception": false,
     "start_time": "2023-10-12T01:26:52.083113",
     "status": "completed"
    },
    "tags": []
   },
   "outputs": [],
   "source": [
    "# Adding a Time Zone column\n",
    "df['Time Zone'] = df['Datum'].str.split().str[-1]"
   ]
  },
  {
   "cell_type": "code",
   "execution_count": 16,
   "id": "8c16438d",
   "metadata": {
    "execution": {
     "iopub.execute_input": "2023-10-12T01:26:52.123424Z",
     "iopub.status.busy": "2023-10-12T01:26:52.122458Z",
     "iopub.status.idle": "2023-10-12T01:26:52.142076Z",
     "shell.execute_reply": "2023-10-12T01:26:52.140890Z"
    },
    "papermill": {
     "duration": 0.030071,
     "end_time": "2023-10-12T01:26:52.144281",
     "exception": false,
     "start_time": "2023-10-12T01:26:52.114210",
     "status": "completed"
    },
    "tags": []
   },
   "outputs": [
    {
     "data": {
      "text/html": [
       "<div>\n",
       "<style scoped>\n",
       "    .dataframe tbody tr th:only-of-type {\n",
       "        vertical-align: middle;\n",
       "    }\n",
       "\n",
       "    .dataframe tbody tr th {\n",
       "        vertical-align: top;\n",
       "    }\n",
       "\n",
       "    .dataframe thead th {\n",
       "        text-align: right;\n",
       "    }\n",
       "</style>\n",
       "<table border=\"1\" class=\"dataframe\">\n",
       "  <thead>\n",
       "    <tr style=\"text-align: right;\">\n",
       "      <th></th>\n",
       "      <th>Company Name</th>\n",
       "      <th>Location</th>\n",
       "      <th>Datum</th>\n",
       "      <th>Detail</th>\n",
       "      <th>Status Rocket</th>\n",
       "      <th>Rocket</th>\n",
       "      <th>Status Mission</th>\n",
       "      <th>Date</th>\n",
       "      <th>Time</th>\n",
       "      <th>Time Zone</th>\n",
       "    </tr>\n",
       "  </thead>\n",
       "  <tbody>\n",
       "    <tr>\n",
       "      <th>0</th>\n",
       "      <td>SpaceX</td>\n",
       "      <td>LC-39A, Kennedy Space Center, Florida, USA</td>\n",
       "      <td>Fri Aug 07, 2020 05:12 UTC</td>\n",
       "      <td>Falcon 9 Block 5 | Starlink V1 L9 &amp; BlackSky</td>\n",
       "      <td>StatusActive</td>\n",
       "      <td>50.00</td>\n",
       "      <td>Success</td>\n",
       "      <td>2020-08-07</td>\n",
       "      <td>05:12</td>\n",
       "      <td>UTC</td>\n",
       "    </tr>\n",
       "    <tr>\n",
       "      <th>1</th>\n",
       "      <td>CASC</td>\n",
       "      <td>Site 9401 (SLS-2), Jiuquan Satellite Launch Ce...</td>\n",
       "      <td>Thu Aug 06, 2020 04:01 UTC</td>\n",
       "      <td>Long March 2D | Gaofen-9 04 &amp; Q-SAT</td>\n",
       "      <td>StatusActive</td>\n",
       "      <td>29.75</td>\n",
       "      <td>Success</td>\n",
       "      <td>2020-08-06</td>\n",
       "      <td>04:01</td>\n",
       "      <td>UTC</td>\n",
       "    </tr>\n",
       "    <tr>\n",
       "      <th>2</th>\n",
       "      <td>SpaceX</td>\n",
       "      <td>Pad A, Boca Chica, Texas, USA</td>\n",
       "      <td>Tue Aug 04, 2020 23:57 UTC</td>\n",
       "      <td>Starship Prototype | 150 Meter Hop</td>\n",
       "      <td>StatusActive</td>\n",
       "      <td>NaN</td>\n",
       "      <td>Success</td>\n",
       "      <td>2020-08-04</td>\n",
       "      <td>23:57</td>\n",
       "      <td>UTC</td>\n",
       "    </tr>\n",
       "    <tr>\n",
       "      <th>3</th>\n",
       "      <td>Roscosmos</td>\n",
       "      <td>Site 200/39, Baikonur Cosmodrome, Kazakhstan</td>\n",
       "      <td>Thu Jul 30, 2020 21:25 UTC</td>\n",
       "      <td>Proton-M/Briz-M | Ekspress-80 &amp; Ekspress-103</td>\n",
       "      <td>StatusActive</td>\n",
       "      <td>65.00</td>\n",
       "      <td>Success</td>\n",
       "      <td>2020-07-30</td>\n",
       "      <td>21:25</td>\n",
       "      <td>UTC</td>\n",
       "    </tr>\n",
       "    <tr>\n",
       "      <th>4</th>\n",
       "      <td>ULA</td>\n",
       "      <td>SLC-41, Cape Canaveral AFS, Florida, USA</td>\n",
       "      <td>Thu Jul 30, 2020 11:50 UTC</td>\n",
       "      <td>Atlas V 541 | Perseverance</td>\n",
       "      <td>StatusActive</td>\n",
       "      <td>145.00</td>\n",
       "      <td>Success</td>\n",
       "      <td>2020-07-30</td>\n",
       "      <td>11:50</td>\n",
       "      <td>UTC</td>\n",
       "    </tr>\n",
       "  </tbody>\n",
       "</table>\n",
       "</div>"
      ],
      "text/plain": [
       "  Company Name                                           Location  \\\n",
       "0       SpaceX         LC-39A, Kennedy Space Center, Florida, USA   \n",
       "1         CASC  Site 9401 (SLS-2), Jiuquan Satellite Launch Ce...   \n",
       "2       SpaceX                      Pad A, Boca Chica, Texas, USA   \n",
       "3    Roscosmos       Site 200/39, Baikonur Cosmodrome, Kazakhstan   \n",
       "4          ULA           SLC-41, Cape Canaveral AFS, Florida, USA   \n",
       "\n",
       "                        Datum                                        Detail  \\\n",
       "0  Fri Aug 07, 2020 05:12 UTC  Falcon 9 Block 5 | Starlink V1 L9 & BlackSky   \n",
       "1  Thu Aug 06, 2020 04:01 UTC           Long March 2D | Gaofen-9 04 & Q-SAT   \n",
       "2  Tue Aug 04, 2020 23:57 UTC            Starship Prototype | 150 Meter Hop   \n",
       "3  Thu Jul 30, 2020 21:25 UTC  Proton-M/Briz-M | Ekspress-80 & Ekspress-103   \n",
       "4  Thu Jul 30, 2020 11:50 UTC                    Atlas V 541 | Perseverance   \n",
       "\n",
       "  Status Rocket  Rocket Status Mission       Date   Time Time Zone  \n",
       "0  StatusActive   50.00        Success 2020-08-07  05:12       UTC  \n",
       "1  StatusActive   29.75        Success 2020-08-06  04:01       UTC  \n",
       "2  StatusActive     NaN        Success 2020-08-04  23:57       UTC  \n",
       "3  StatusActive   65.00        Success 2020-07-30  21:25       UTC  \n",
       "4  StatusActive  145.00        Success 2020-07-30  11:50       UTC  "
      ]
     },
     "execution_count": 16,
     "metadata": {},
     "output_type": "execute_result"
    }
   ],
   "source": [
    "df.head()"
   ]
  },
  {
   "cell_type": "markdown",
   "id": "9fc77eb2",
   "metadata": {
    "papermill": {
     "duration": 0.007249,
     "end_time": "2023-10-12T01:26:52.158786",
     "exception": false,
     "start_time": "2023-10-12T01:26:52.151537",
     "status": "completed"
    },
    "tags": []
   },
   "source": [
    "## To solve\n",
    "\n",
    "Some timezones are not UTC, and instead have the year number. I might have to fix this. "
   ]
  },
  {
   "cell_type": "code",
   "execution_count": 17,
   "id": "730417fc",
   "metadata": {
    "execution": {
     "iopub.execute_input": "2023-10-12T01:26:52.176075Z",
     "iopub.status.busy": "2023-10-12T01:26:52.174922Z",
     "iopub.status.idle": "2023-10-12T01:26:52.184560Z",
     "shell.execute_reply": "2023-10-12T01:26:52.183688Z"
    },
    "papermill": {
     "duration": 0.020256,
     "end_time": "2023-10-12T01:26:52.186570",
     "exception": false,
     "start_time": "2023-10-12T01:26:52.166314",
     "status": "completed"
    },
    "tags": []
   },
   "outputs": [
    {
     "data": {
      "text/plain": [
       "Time Zone\n",
       "UTC     4198\n",
       "2015       6\n",
       "1958       6\n",
       "1981       5\n",
       "1977       5\n",
       "1973       4\n",
       "2012       4\n",
       "1964       4\n",
       "1967       4\n",
       "1990       4\n",
       "1978       4\n",
       "1976       4\n",
       "1999       4\n",
       "1972       3\n",
       "1988       3\n",
       "1980       3\n",
       "1979       3\n",
       "1985       3\n",
       "2002       3\n",
       "2003       3\n",
       "1971       3\n",
       "1968       3\n",
       "1966       3\n",
       "1963       3\n",
       "2017       2\n",
       "1969       2\n",
       "1983       2\n",
       "2016       2\n",
       "1984       2\n",
       "2019       2\n",
       "1987       2\n",
       "1989       2\n",
       "1991       2\n",
       "1994       2\n",
       "2007       1\n",
       "1960       1\n",
       "1962       1\n",
       "2014       1\n",
       "2011       1\n",
       "1965       1\n",
       "2010       1\n",
       "2009       1\n",
       "2008       1\n",
       "2004       1\n",
       "1970       1\n",
       "1982       1\n",
       "2001       1\n",
       "1998       1\n",
       "1974       1\n",
       "1975       1\n",
       "1997       1\n",
       "1995       1\n",
       "1986       1\n",
       "Name: count, dtype: int64"
      ]
     },
     "execution_count": 17,
     "metadata": {},
     "output_type": "execute_result"
    }
   ],
   "source": [
    "df['Time Zone'].value_counts()"
   ]
  },
  {
   "cell_type": "code",
   "execution_count": 18,
   "id": "f114ef91",
   "metadata": {
    "execution": {
     "iopub.execute_input": "2023-10-12T01:26:52.203071Z",
     "iopub.status.busy": "2023-10-12T01:26:52.202326Z",
     "iopub.status.idle": "2023-10-12T01:26:52.234360Z",
     "shell.execute_reply": "2023-10-12T01:26:52.233303Z"
    },
    "papermill": {
     "duration": 0.042752,
     "end_time": "2023-10-12T01:26:52.236596",
     "exception": false,
     "start_time": "2023-10-12T01:26:52.193844",
     "status": "completed"
    },
    "tags": []
   },
   "outputs": [
    {
     "data": {
      "text/html": [
       "<div>\n",
       "<style scoped>\n",
       "    .dataframe tbody tr th:only-of-type {\n",
       "        vertical-align: middle;\n",
       "    }\n",
       "\n",
       "    .dataframe tbody tr th {\n",
       "        vertical-align: top;\n",
       "    }\n",
       "\n",
       "    .dataframe thead th {\n",
       "        text-align: right;\n",
       "    }\n",
       "</style>\n",
       "<table border=\"1\" class=\"dataframe\">\n",
       "  <thead>\n",
       "    <tr style=\"text-align: right;\">\n",
       "      <th></th>\n",
       "      <th>Company Name</th>\n",
       "      <th>Location</th>\n",
       "      <th>Datum</th>\n",
       "      <th>Detail</th>\n",
       "      <th>Status Rocket</th>\n",
       "      <th>Status Mission</th>\n",
       "      <th>Time</th>\n",
       "      <th>Time Zone</th>\n",
       "    </tr>\n",
       "  </thead>\n",
       "  <tbody>\n",
       "    <tr>\n",
       "      <th>count</th>\n",
       "      <td>4324</td>\n",
       "      <td>4324</td>\n",
       "      <td>4324</td>\n",
       "      <td>4324</td>\n",
       "      <td>4324</td>\n",
       "      <td>4324</td>\n",
       "      <td>4198</td>\n",
       "      <td>4324</td>\n",
       "    </tr>\n",
       "    <tr>\n",
       "      <th>unique</th>\n",
       "      <td>56</td>\n",
       "      <td>137</td>\n",
       "      <td>4319</td>\n",
       "      <td>4278</td>\n",
       "      <td>2</td>\n",
       "      <td>4</td>\n",
       "      <td>1273</td>\n",
       "      <td>53</td>\n",
       "    </tr>\n",
       "    <tr>\n",
       "      <th>top</th>\n",
       "      <td>RVSN USSR</td>\n",
       "      <td>Site 31/6, Baikonur Cosmodrome, Kazakhstan</td>\n",
       "      <td>Wed Nov 05, 2008 00:15 UTC</td>\n",
       "      <td>Cosmos-3MRB (65MRB) | BOR-5 Shuttle</td>\n",
       "      <td>StatusRetired</td>\n",
       "      <td>Success</td>\n",
       "      <td>12:00</td>\n",
       "      <td>UTC</td>\n",
       "    </tr>\n",
       "    <tr>\n",
       "      <th>freq</th>\n",
       "      <td>1777</td>\n",
       "      <td>235</td>\n",
       "      <td>2</td>\n",
       "      <td>6</td>\n",
       "      <td>3534</td>\n",
       "      <td>3879</td>\n",
       "      <td>51</td>\n",
       "      <td>4198</td>\n",
       "    </tr>\n",
       "  </tbody>\n",
       "</table>\n",
       "</div>"
      ],
      "text/plain": [
       "       Company Name                                    Location  \\\n",
       "count          4324                                        4324   \n",
       "unique           56                                         137   \n",
       "top       RVSN USSR  Site 31/6, Baikonur Cosmodrome, Kazakhstan   \n",
       "freq           1777                                         235   \n",
       "\n",
       "                             Datum                               Detail  \\\n",
       "count                         4324                                 4324   \n",
       "unique                        4319                                 4278   \n",
       "top     Wed Nov 05, 2008 00:15 UTC  Cosmos-3MRB (65MRB) | BOR-5 Shuttle   \n",
       "freq                             2                                    6   \n",
       "\n",
       "        Status Rocket Status Mission   Time Time Zone  \n",
       "count            4324           4324   4198      4324  \n",
       "unique              2              4   1273        53  \n",
       "top     StatusRetired        Success  12:00       UTC  \n",
       "freq             3534           3879     51      4198  "
      ]
     },
     "execution_count": 18,
     "metadata": {},
     "output_type": "execute_result"
    }
   ],
   "source": [
    "df.describe(include=['object'])"
   ]
  },
  {
   "cell_type": "code",
   "execution_count": 19,
   "id": "9aae132c",
   "metadata": {
    "execution": {
     "iopub.execute_input": "2023-10-12T01:26:52.253872Z",
     "iopub.status.busy": "2023-10-12T01:26:52.253166Z",
     "iopub.status.idle": "2023-10-12T01:26:52.260422Z",
     "shell.execute_reply": "2023-10-12T01:26:52.259656Z"
    },
    "papermill": {
     "duration": 0.018124,
     "end_time": "2023-10-12T01:26:52.262360",
     "exception": false,
     "start_time": "2023-10-12T01:26:52.244236",
     "status": "completed"
    },
    "tags": []
   },
   "outputs": [
    {
     "data": {
      "text/plain": [
       "126"
      ]
     },
     "execution_count": 19,
     "metadata": {},
     "output_type": "execute_result"
    }
   ],
   "source": [
    "df.Time.isna().sum()"
   ]
  },
  {
   "cell_type": "code",
   "execution_count": 20,
   "id": "1b4be6a9",
   "metadata": {
    "execution": {
     "iopub.execute_input": "2023-10-12T01:26:52.279321Z",
     "iopub.status.busy": "2023-10-12T01:26:52.278567Z",
     "iopub.status.idle": "2023-10-12T01:26:52.292947Z",
     "shell.execute_reply": "2023-10-12T01:26:52.291748Z"
    },
    "papermill": {
     "duration": 0.02544,
     "end_time": "2023-10-12T01:26:52.295294",
     "exception": false,
     "start_time": "2023-10-12T01:26:52.269854",
     "status": "completed"
    },
    "tags": []
   },
   "outputs": [
    {
     "data": {
      "text/html": [
       "<div>\n",
       "<style scoped>\n",
       "    .dataframe tbody tr th:only-of-type {\n",
       "        vertical-align: middle;\n",
       "    }\n",
       "\n",
       "    .dataframe tbody tr th {\n",
       "        vertical-align: top;\n",
       "    }\n",
       "\n",
       "    .dataframe thead th {\n",
       "        text-align: right;\n",
       "    }\n",
       "</style>\n",
       "<table border=\"1\" class=\"dataframe\">\n",
       "  <thead>\n",
       "    <tr style=\"text-align: right;\">\n",
       "      <th></th>\n",
       "      <th>Company Name</th>\n",
       "      <th>Location</th>\n",
       "      <th>Datum</th>\n",
       "      <th>Detail</th>\n",
       "      <th>Status Rocket</th>\n",
       "      <th>Rocket</th>\n",
       "      <th>Status Mission</th>\n",
       "      <th>Date</th>\n",
       "      <th>Time</th>\n",
       "      <th>Time Zone</th>\n",
       "    </tr>\n",
       "  </thead>\n",
       "  <tbody>\n",
       "    <tr>\n",
       "      <th>0</th>\n",
       "      <td>SpaceX</td>\n",
       "      <td>LC-39A, Kennedy Space Center, Florida, USA</td>\n",
       "      <td>Fri Aug 07, 2020 05:12 UTC</td>\n",
       "      <td>Falcon 9 Block 5 | Starlink V1 L9 &amp; BlackSky</td>\n",
       "      <td>StatusActive</td>\n",
       "      <td>50.00</td>\n",
       "      <td>Success</td>\n",
       "      <td>2020-08-07</td>\n",
       "      <td>05:12</td>\n",
       "      <td>UTC</td>\n",
       "    </tr>\n",
       "    <tr>\n",
       "      <th>1</th>\n",
       "      <td>CASC</td>\n",
       "      <td>Site 9401 (SLS-2), Jiuquan Satellite Launch Ce...</td>\n",
       "      <td>Thu Aug 06, 2020 04:01 UTC</td>\n",
       "      <td>Long March 2D | Gaofen-9 04 &amp; Q-SAT</td>\n",
       "      <td>StatusActive</td>\n",
       "      <td>29.75</td>\n",
       "      <td>Success</td>\n",
       "      <td>2020-08-06</td>\n",
       "      <td>04:01</td>\n",
       "      <td>UTC</td>\n",
       "    </tr>\n",
       "    <tr>\n",
       "      <th>2</th>\n",
       "      <td>SpaceX</td>\n",
       "      <td>Pad A, Boca Chica, Texas, USA</td>\n",
       "      <td>Tue Aug 04, 2020 23:57 UTC</td>\n",
       "      <td>Starship Prototype | 150 Meter Hop</td>\n",
       "      <td>StatusActive</td>\n",
       "      <td>NaN</td>\n",
       "      <td>Success</td>\n",
       "      <td>2020-08-04</td>\n",
       "      <td>23:57</td>\n",
       "      <td>UTC</td>\n",
       "    </tr>\n",
       "    <tr>\n",
       "      <th>3</th>\n",
       "      <td>Roscosmos</td>\n",
       "      <td>Site 200/39, Baikonur Cosmodrome, Kazakhstan</td>\n",
       "      <td>Thu Jul 30, 2020 21:25 UTC</td>\n",
       "      <td>Proton-M/Briz-M | Ekspress-80 &amp; Ekspress-103</td>\n",
       "      <td>StatusActive</td>\n",
       "      <td>65.00</td>\n",
       "      <td>Success</td>\n",
       "      <td>2020-07-30</td>\n",
       "      <td>21:25</td>\n",
       "      <td>UTC</td>\n",
       "    </tr>\n",
       "    <tr>\n",
       "      <th>4</th>\n",
       "      <td>ULA</td>\n",
       "      <td>SLC-41, Cape Canaveral AFS, Florida, USA</td>\n",
       "      <td>Thu Jul 30, 2020 11:50 UTC</td>\n",
       "      <td>Atlas V 541 | Perseverance</td>\n",
       "      <td>StatusActive</td>\n",
       "      <td>145.00</td>\n",
       "      <td>Success</td>\n",
       "      <td>2020-07-30</td>\n",
       "      <td>11:50</td>\n",
       "      <td>UTC</td>\n",
       "    </tr>\n",
       "  </tbody>\n",
       "</table>\n",
       "</div>"
      ],
      "text/plain": [
       "  Company Name                                           Location  \\\n",
       "0       SpaceX         LC-39A, Kennedy Space Center, Florida, USA   \n",
       "1         CASC  Site 9401 (SLS-2), Jiuquan Satellite Launch Ce...   \n",
       "2       SpaceX                      Pad A, Boca Chica, Texas, USA   \n",
       "3    Roscosmos       Site 200/39, Baikonur Cosmodrome, Kazakhstan   \n",
       "4          ULA           SLC-41, Cape Canaveral AFS, Florida, USA   \n",
       "\n",
       "                        Datum                                        Detail  \\\n",
       "0  Fri Aug 07, 2020 05:12 UTC  Falcon 9 Block 5 | Starlink V1 L9 & BlackSky   \n",
       "1  Thu Aug 06, 2020 04:01 UTC           Long March 2D | Gaofen-9 04 & Q-SAT   \n",
       "2  Tue Aug 04, 2020 23:57 UTC            Starship Prototype | 150 Meter Hop   \n",
       "3  Thu Jul 30, 2020 21:25 UTC  Proton-M/Briz-M | Ekspress-80 & Ekspress-103   \n",
       "4  Thu Jul 30, 2020 11:50 UTC                    Atlas V 541 | Perseverance   \n",
       "\n",
       "  Status Rocket  Rocket Status Mission       Date   Time Time Zone  \n",
       "0  StatusActive   50.00        Success 2020-08-07  05:12       UTC  \n",
       "1  StatusActive   29.75        Success 2020-08-06  04:01       UTC  \n",
       "2  StatusActive     NaN        Success 2020-08-04  23:57       UTC  \n",
       "3  StatusActive   65.00        Success 2020-07-30  21:25       UTC  \n",
       "4  StatusActive  145.00        Success 2020-07-30  11:50       UTC  "
      ]
     },
     "execution_count": 20,
     "metadata": {},
     "output_type": "execute_result"
    }
   ],
   "source": [
    "df.head()"
   ]
  }
 ],
 "metadata": {
  "kernelspec": {
   "display_name": "Python 3",
   "language": "python",
   "name": "python3"
  },
  "language_info": {
   "codemirror_mode": {
    "name": "ipython",
    "version": 3
   },
   "file_extension": ".py",
   "mimetype": "text/x-python",
   "name": "python",
   "nbconvert_exporter": "python",
   "pygments_lexer": "ipython3",
   "version": "3.10.12"
  },
  "papermill": {
   "default_parameters": {},
   "duration": 8.627312,
   "end_time": "2023-10-12T01:26:52.923345",
   "environment_variables": {},
   "exception": null,
   "input_path": "__notebook__.ipynb",
   "output_path": "__notebook__.ipynb",
   "parameters": {},
   "start_time": "2023-10-12T01:26:44.296033",
   "version": "2.4.0"
  }
 },
 "nbformat": 4,
 "nbformat_minor": 5
}
